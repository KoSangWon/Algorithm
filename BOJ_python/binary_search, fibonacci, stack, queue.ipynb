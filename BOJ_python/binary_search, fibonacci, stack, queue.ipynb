{
 "cells": [
  {
   "cell_type": "code",
   "execution_count": 3,
   "metadata": {},
   "outputs": [
    {
     "name": "stdout",
     "output_type": "stream",
     "text": [
      "[4, 3, 2, 1]\n"
     ]
    }
   ],
   "source": [
    "def reverse_arr(arr, start, end):\n",
    "    while start <= end:\n",
    "        arr[start], arr[end] = arr[end], arr[start]\n",
    "        start += 1\n",
    "        end -= 1\n",
    "    return arr\n",
    "\n",
    "print(reverse_arr([1,2,3,4],0,3))"
   ]
  },
  {
   "cell_type": "code",
   "execution_count": 13,
   "metadata": {},
   "outputs": [
    {
     "name": "stdout",
     "output_type": "stream",
     "text": [
      "[2, 3, 4, 1]\n"
     ]
    }
   ],
   "source": [
    "def jugling(arr, n):\n",
    "    temp = arr[0]\n",
    "    for i in range(n - 1):\n",
    "        arr[i] = arr[i + 1]\n",
    "    arr[n - 1] = temp\n",
    "    return arr\n",
    "\n",
    "print(jugling([1,2,3,4], 4))"
   ]
  },
  {
   "cell_type": "markdown",
   "metadata": {},
   "source": [
    "# 정렬"
   ]
  },
  {
   "cell_type": "code",
   "execution_count": 89,
   "metadata": {},
   "outputs": [],
   "source": [
    "# 버블정렬\n",
    "# 피보나치(재귀, dp)\n",
    "# 이분탐색(일반, 재귀)"
   ]
  },
  {
   "cell_type": "markdown",
   "metadata": {},
   "source": [
    "## 버블정렬"
   ]
  },
  {
   "cell_type": "code",
   "execution_count": 90,
   "metadata": {},
   "outputs": [
    {
     "data": {
      "text/plain": [
       "[1, 2, 3, 4]"
      ]
     },
     "execution_count": 90,
     "metadata": {},
     "output_type": "execute_result"
    }
   ],
   "source": [
    "# 버블정렬\n",
    "def bubble(li):\n",
    "    n = len(li)\n",
    "    for i in range(n - 1):\n",
    "        for j in range(n - i - 1):\n",
    "            if li[j] > li[j + 1]:\n",
    "                li[j], li[j + 1] = li[j + 1], li[j]\n",
    "    return li\n",
    "\n",
    "bubble([2,3,1,4])"
   ]
  },
  {
   "cell_type": "markdown",
   "metadata": {},
   "source": [
    "## 선택정렬"
   ]
  },
  {
   "cell_type": "code",
   "execution_count": 5,
   "metadata": {},
   "outputs": [
    {
     "data": {
      "text/plain": [
       "[1, 2, 2, 3, 5]"
      ]
     },
     "execution_count": 5,
     "metadata": {},
     "output_type": "execute_result"
    }
   ],
   "source": [
    "# 선택정렬, 최악 최선 평균 모두 O(n^2)\n",
    "# 버블소트에 비해 교환 횟수가 적음\n",
    "def selection_sort(arr):\n",
    "    n = len(arr)\n",
    "    for i in range(n - 1):\n",
    "        min_idx = i\n",
    "        for j in range(i + 1, n):\n",
    "            if arr[j] < arr[min_idx]:\n",
    "                min_idx = j\n",
    "        arr[i], arr[min_idx] = arr[min_idx], arr[i]\n",
    "    return arr\n",
    "\n",
    "selection_sort([2,2,3,1,5])"
   ]
  },
  {
   "cell_type": "markdown",
   "metadata": {},
   "source": [
    "## 삽입정렬"
   ]
  },
  {
   "cell_type": "code",
   "execution_count": 9,
   "metadata": {},
   "outputs": [
    {
     "data": {
      "text/plain": [
       "[1, 2, 2, 3, 5]"
      ]
     },
     "execution_count": 9,
     "metadata": {},
     "output_type": "execute_result"
    }
   ],
   "source": [
    "# 삽입정렬, 최악 O(n^2), 최선 O(n) -> 이미 정렬되어 있을 때\n",
    "#\n",
    "def insertion_sort(arr):\n",
    "    n = len(arr)\n",
    "    for i in range(1, n):\n",
    "        temp = arr[i]\n",
    "        prev = i - 1\n",
    "        while prev >= 0 and arr[prev] > temp:\n",
    "            arr[prev + 1] = arr[prev]\n",
    "            prev -= 1\n",
    "        arr[prev + 1] = temp\n",
    "    return arr\n",
    "    \n",
    "insertion_sort([2,2,3,1,5])"
   ]
  },
  {
   "cell_type": "markdown",
   "metadata": {},
   "source": [
    "## 퀵 정렬"
   ]
  },
  {
   "cell_type": "markdown",
   "metadata": {},
   "source": [
    "1. 배열 원소 중 하나를 피벗(pivot)이라고 한다.\n",
    "2. 피벗 앞에는 피벗보다 값이 작은 모든 원소들이 오고, 피벗 뒤에는 피벗보다 값이 큰 모든 원소들이 오도록 피벗을 기준으로 배열을 둘로 나눈다. 이렇데 둘로 나누는 것을 분할(Divide)이라고 한다. 분할을 마친 뒤에 피벗은 더 이상 움직이지 않는다.\n",
    "3. 분할된 두 개의 작은 배열에 대해 재귀(Recursion)적으로 이 과정을 반복한다.\n",
    "- 재귀 호출이 한번 진행될 때마다 최소한 하나의 원소는 최종적으로 위치가 정해지므로, 이 알고리즘은 반드시 끝난다는 것을 보장할 수 있다."
   ]
  },
  {
   "cell_type": "markdown",
   "metadata": {},
   "source": [
    "3 7 8 1 5 9 6 10 2 4  \n",
    "-> 3을 pivot으로 잡고 시작하자. 왼쪽에서 출발해서 3보다 큰 가장 처음의 값과 오른쪽에서 출발해서 3보다 작은 가장 처음의 값을 교환한다. 즉, 7과 2를 교환한다.    \n",
    "3 2 8 1 5 9 6 10 7 4  \n",
    "-> 3이 여전히 pivot이고 다시 한번 수행한다. 8과 1이 된다.    \n",
    "3 2 1 8 5 9 6 10 7 4  \n",
    "-> 3이 여전히 pivot이고 다시 한번 수행한다. 8과 1이 된다. 이때, 작은 값의 인덱스가 큰 값의 인덱스보다 더 작아졌다. 엇갈린 상태가 된 것이다. 이때, 더 작은 값과 pivot값을 바꿔준다. 즉, 작은값(1)과 pivot값(3)을 바꿔준다.    \n",
    "1 2 3 8 5 9 6 10 7 4  \n",
    "-> 3은 정렬이 이루어진 것이다. 이때 왼쪽은 3보다 작고 오른쪽은 3보다 크다. 즉, 한번 분할을 한 것이다. 이제 왼쪽 집합과 오른쪽 집합을 기준으로 또 반복적으로 수행한다. 왼쪽은 1을 pivot, 오른쪽은 8을 pivot으로 두고 실시한다.    \n",
    "  \n",
    "  \n",
    "이런 식으로 진행하면 오름차순 정렬이 된다. \n",
    "평균 속도가 O(NlogN)이다. 최악의 경우는 오름차순으로 이미 정렬된 경우이고 시간복잡도는 O(N^2)이다. 오름차순으로 정렬된 경우에는 삽입정렬을 사용하면 O(N)이다. 따라서, 상황에 맞게 정렬 알고리즘을 선택해야 한다."
   ]
  },
  {
   "cell_type": "markdown",
   "metadata": {},
   "source": [
    "## 병합정렬"
   ]
  },
  {
   "cell_type": "markdown",
   "metadata": {},
   "source": [
    "- '분할정복'방법을 사용한다. 시간복잡도는 최악, 최선, 평균 모두 O(NlogN)이다. \n",
    "- 병합정렬은 하나의 큰 문제를 두 개의 작은 문제로 분할한 뒤에 각자 계산하고 나중에 합친다. 즉, 기본 아이디어는 일단 정확히 반으로 나누고 나중에 정렬하는 것이다. 단계의 크기는 logN이고 정렬 자체에 필요한 수행시간은 N이다. 결과적으로 O(NlogN)이 된다.  \n",
    "- 병합정렬은 기존의 데이터를 담을 추가 공간이 필요하다는 점에서 메모리 활용이 비효율적이라는 문제가 있다. 병합 정렬은 일반적인 경우 퀵 정렬보다 느리지만 어떠한 상황에서도 O(NlogN)을 보장할 수 있다는 점에서 몹시 효율적인 알고리즘이다."
   ]
  },
  {
   "cell_type": "code",
   "execution_count": 91,
   "metadata": {},
   "outputs": [
    {
     "data": {
      "text/plain": [
       "8"
      ]
     },
     "execution_count": 91,
     "metadata": {},
     "output_type": "execute_result"
    }
   ],
   "source": [
    "# 피보나치 재귀\n",
    "def fibonacci_recursion(n):\n",
    "    if n <= 1:\n",
    "        return 1\n",
    "    return fibonacci_recursion(n - 1) + fibonacci_recursion(n - 2)\n",
    "\n",
    "fibonacci_recursion(5)"
   ]
  },
  {
   "cell_type": "code",
   "execution_count": 96,
   "metadata": {},
   "outputs": [
    {
     "name": "stdout",
     "output_type": "stream",
     "text": [
      "[1, 1, 2, 3, 5, 8, 13, 21, 34, 55]\n"
     ]
    }
   ],
   "source": [
    "# 피보나치 DP\n",
    "dp = []\n",
    "for x in range(10):\n",
    "    if x <= 1:\n",
    "        dp.append(1)\n",
    "    else:\n",
    "        dp.append(dp[x - 1] + dp[x - 2])\n",
    "\n",
    "print(dp)"
   ]
  },
  {
   "cell_type": "code",
   "execution_count": 97,
   "metadata": {},
   "outputs": [
    {
     "data": {
      "text/plain": [
       "2"
      ]
     },
     "execution_count": 97,
     "metadata": {},
     "output_type": "execute_result"
    }
   ],
   "source": [
    "# 이분탐색 일반\n",
    "def binary_search(data, target):\n",
    "    data.sort()\n",
    "    start = 0\n",
    "    end = len(data) - 1\n",
    "    \n",
    "    while start <= end:\n",
    "        mid = (start + end) // 2\n",
    "        if data[mid] == target:\n",
    "            return mid\n",
    "        elif data[mid] < target:\n",
    "            start = mid + 1\n",
    "        else:\n",
    "            end = mid - 1\n",
    "    \n",
    "    return None\n",
    "\n",
    "binary_search([1,2,3,4],3)"
   ]
  },
  {
   "cell_type": "code",
   "execution_count": 99,
   "metadata": {},
   "outputs": [
    {
     "data": {
      "text/plain": [
       "2"
      ]
     },
     "execution_count": 99,
     "metadata": {},
     "output_type": "execute_result"
    }
   ],
   "source": [
    "# 이분탐색 재귀\n",
    "def binary_search_recursion(data, start, end, target):\n",
    "    if start > end:\n",
    "        return\n",
    "    \n",
    "    mid = (start + end) // 2\n",
    "    if data[mid] == target:\n",
    "        return mid\n",
    "    elif data[mid] < target:\n",
    "        start = mid + 1\n",
    "    else:\n",
    "        end = mid - 1\n",
    "    \n",
    "    return binary_search_recursion(data, start, end, target)\n",
    "\n",
    "binary_search([1,2,3,4],3)"
   ]
  },
  {
   "cell_type": "code",
   "execution_count": 109,
   "metadata": {},
   "outputs": [
    {
     "name": "stdout",
     "output_type": "stream",
     "text": [
      "2\n",
      "False\n",
      "True\n"
     ]
    },
    {
     "data": {
      "text/plain": [
       "[]"
      ]
     },
     "execution_count": 109,
     "metadata": {},
     "output_type": "execute_result"
    }
   ],
   "source": [
    "# 스택\n",
    "class Stack():\n",
    "    def __init__(self):\n",
    "        self.stack = []\n",
    "        \n",
    "    def size(self):\n",
    "        return len(self.stack)\n",
    "    def is_empty(self):\n",
    "        return len(self.stack) == 0\n",
    "    def push(self, item):\n",
    "        self.stack.append(item)\n",
    "    def pop(self):\n",
    "        return self.stack.pop()\n",
    "    def peek(self):\n",
    "        return self.stack[-1]\n",
    "    \n",
    "stack = Stack()\n",
    "\n",
    "stack.push(3)\n",
    "stack.push(5)\n",
    "print(stack.size())\n",
    "print(stack.is_empty())\n",
    "stack.pop()\n",
    "stack.pop()\n",
    "print(stack.is_empty())\n",
    "stack.stack"
   ]
  },
  {
   "cell_type": "code",
   "execution_count": 112,
   "metadata": {},
   "outputs": [
    {
     "name": "stdout",
     "output_type": "stream",
     "text": [
      "[3]\n",
      "[]\n"
     ]
    }
   ],
   "source": [
    "# 큐\n",
    "class Queue():\n",
    "    def __init__(self):\n",
    "        self.queue = []\n",
    "    def enqueue(self, item):\n",
    "        self.queue.append(item)\n",
    "    def dequeue(self):\n",
    "        self.queue.pop(0)\n",
    "    def size(self):\n",
    "        return len(self.queue)\n",
    "    def printQueue(self):\n",
    "        print(self.queue)\n",
    "        \n",
    "queue = Queue()\n",
    "queue.enqueue(3)\n",
    "queue.printQueue()\n",
    "queue.dequeue()\n",
    "queue.printQueue()"
   ]
  },
  {
   "cell_type": "code",
   "execution_count": null,
   "metadata": {},
   "outputs": [],
   "source": []
  }
 ],
 "metadata": {
  "kernelspec": {
   "display_name": "Python 3",
   "language": "python",
   "name": "python3"
  },
  "language_info": {
   "codemirror_mode": {
    "name": "ipython",
    "version": 3
   },
   "file_extension": ".py",
   "mimetype": "text/x-python",
   "name": "python",
   "nbconvert_exporter": "python",
   "pygments_lexer": "ipython3",
   "version": "3.7.6"
  }
 },
 "nbformat": 4,
 "nbformat_minor": 4
}
