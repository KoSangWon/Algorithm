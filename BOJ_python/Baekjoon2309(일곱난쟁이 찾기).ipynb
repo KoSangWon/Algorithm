{
 "cells": [
  {
   "cell_type": "code",
   "execution_count": null,
   "metadata": {},
   "outputs": [
    {
     "name": "stdout",
     "output_type": "stream",
     "text": [
      "1\n",
      "2\n",
      "1\n",
      "1\n",
      "1\n",
      "1\n",
      "1\n",
      "1\n",
      "1\n"
     ]
    }
   ],
   "source": [
    "import random\n",
    "\n",
    "heights = []\n",
    "\n",
    "for _ in range(9):\n",
    "    heights.append(int(input())) # 입력 받기\n",
    "\n",
    "dwarfs = heights[:7]\n",
    "\n",
    "while sum(dwarfs) != 100 : # 7명 키의 합이 100이 될 때까지\n",
    "    random.shuffle(heights) # heights 리스트를 섞어\n",
    "    dwarfs = heights[:7] # 무차별 대입\n",
    "    \n",
    "dwarfs = sorted(dwarfs) # 오름차순 정렬\n",
    "\n",
    "for h in dwarfs:\n",
    "    print(h)"
   ]
  }
 ],
 "metadata": {
  "kernelspec": {
   "display_name": "Python 3",
   "language": "python",
   "name": "python3"
  },
  "language_info": {
   "codemirror_mode": {
    "name": "ipython",
    "version": 3
   },
   "file_extension": ".py",
   "mimetype": "text/x-python",
   "name": "python",
   "nbconvert_exporter": "python",
   "pygments_lexer": "ipython3",
   "version": "3.7.6"
  }
 },
 "nbformat": 4,
 "nbformat_minor": 4
}
