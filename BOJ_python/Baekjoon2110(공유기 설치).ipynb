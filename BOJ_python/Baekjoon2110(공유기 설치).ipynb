{
 "cells": [
  {
   "cell_type": "markdown",
   "metadata": {},
   "source": [
    "#### - 탐색문제에서 범위가 매우 클 때 이진탐색 고려\n",
    "#### - 가장 인접한 두 공유기 사이의 최대 Gap을 이진 탐색으로 찾는다."
   ]
  },
  {
   "cell_type": "code",
   "execution_count": 10,
   "metadata": {},
   "outputs": [
    {
     "name": "stdout",
     "output_type": "stream",
     "text": [
      "5 3\n",
      "1\n",
      "2\n",
      "8\n",
      "4\n",
      "9\n",
      "3\n"
     ]
    }
   ],
   "source": [
    "n, c = map(int, input().split(' '))\n",
    "\n",
    "arr = []\n",
    "for _ in range(n):\n",
    "    arr.append(int(input()))\n",
    "    \n",
    "arr = sorted(arr)\n",
    "\n",
    "low = arr[1] - arr[0]\n",
    "high = arr[-1] - arr[0]\n",
    "result = 0 # 결과값(최대 Gap)\n",
    "\n",
    "while(low <= high):\n",
    "    mid = (low + high) // 2 # mid는 gap\n",
    "    \n",
    "    value = arr[0]\n",
    "    count = 1 # 설치중인 공유기 개수\n",
    "    for i in range(1, len(arr)):\n",
    "        if arr[i] >= value + mid:\n",
    "            value = arr[i]\n",
    "            count += 1\n",
    "    if count >= c: # c개 이상의 공유기를 설치할 수 있는 경우\n",
    "        low = mid + 1\n",
    "        result = mid\n",
    "    else: # c개 이상의 공유기를 설치할 수 없는 경우\n",
    "        high = mid - 1\n",
    "        \n",
    "print(result)"
   ]
  },
  {
   "cell_type": "code",
   "execution_count": 6,
   "metadata": {},
   "outputs": [
    {
     "name": "stdout",
     "output_type": "stream",
     "text": [
      "2.5\n"
     ]
    }
   ],
   "source": [
    "a=3\n",
    "b = 2\n",
    "print((a+b)/2)"
   ]
  },
  {
   "cell_type": "code",
   "execution_count": null,
   "metadata": {},
   "outputs": [],
   "source": []
  }
 ],
 "metadata": {
  "kernelspec": {
   "display_name": "Python 3",
   "language": "python",
   "name": "python3"
  },
  "language_info": {
   "codemirror_mode": {
    "name": "ipython",
    "version": 3
   },
   "file_extension": ".py",
   "mimetype": "text/x-python",
   "name": "python",
   "nbconvert_exporter": "python",
   "pygments_lexer": "ipython3",
   "version": "3.7.6"
  }
 },
 "nbformat": 4,
 "nbformat_minor": 4
}
