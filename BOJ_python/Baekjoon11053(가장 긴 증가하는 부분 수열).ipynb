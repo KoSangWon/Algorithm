{
 "cells": [
  {
   "cell_type": "code",
   "execution_count": 19,
   "metadata": {},
   "outputs": [
    {
     "name": "stdout",
     "output_type": "stream",
     "text": [
      "6\n",
      "1 2 1 3 2 5\n",
      "4\n"
     ]
    }
   ],
   "source": [
    "n = int(input())\n",
    "dp = [1]*1001\n",
    "array = list(map(int, input().split()))\n",
    "\n",
    "for i in range(1, n):\n",
    "    for j in range(0, i):\n",
    "        if(array[i] > array[j]):\n",
    "            dp[i] = max(dp[i], dp[j] + 1)\n",
    "\n",
    "print(max(dp))"
   ]
  },
  {
   "cell_type": "code",
   "execution_count": null,
   "metadata": {},
   "outputs": [],
   "source": []
  }
 ],
 "metadata": {
  "kernelspec": {
   "display_name": "Python 3",
   "language": "python",
   "name": "python3"
  },
  "language_info": {
   "codemirror_mode": {
    "name": "ipython",
    "version": 3
   },
   "file_extension": ".py",
   "mimetype": "text/x-python",
   "name": "python",
   "nbconvert_exporter": "python",
   "pygments_lexer": "ipython3",
   "version": "3.7.6"
  }
 },
 "nbformat": 4,
 "nbformat_minor": 4
}
