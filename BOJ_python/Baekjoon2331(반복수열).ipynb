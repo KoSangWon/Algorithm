{
 "cells": [
  {
   "cell_type": "code",
   "execution_count": 23,
   "metadata": {
    "scrolled": true
   },
   "outputs": [
    {
     "name": "stdout",
     "output_type": "stream",
     "text": [
      "58 2\n",
      "0\n"
     ]
    }
   ],
   "source": [
    "A, P = map(int, input().split())\n",
    "visited = [0] * 300001\n",
    "next = 0\n",
    "\n",
    "while visited[A] != 3:\n",
    "    visited[A] += 1\n",
    "    next = 0\n",
    "    for i in str(A):\n",
    "        next += pow(int(i), P)\n",
    "    A = next\n",
    "    \n",
    "count = 0\n",
    "for i in range(300001):\n",
    "    if visited[i] == 1:\n",
    "        count += 1\n",
    "\n",
    "print(count)"
   ]
  },
  {
   "cell_type": "code",
   "execution_count": null,
   "metadata": {},
   "outputs": [],
   "source": []
  }
 ],
 "metadata": {
  "kernelspec": {
   "display_name": "Python 3",
   "language": "python",
   "name": "python3"
  },
  "language_info": {
   "codemirror_mode": {
    "name": "ipython",
    "version": 3
   },
   "file_extension": ".py",
   "mimetype": "text/x-python",
   "name": "python",
   "nbconvert_exporter": "python",
   "pygments_lexer": "ipython3",
   "version": "3.7.6"
  }
 },
 "nbformat": 4,
 "nbformat_minor": 4
}
