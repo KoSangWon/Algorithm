{
 "cells": [
  {
   "cell_type": "code",
   "execution_count": 5,
   "metadata": {},
   "outputs": [
    {
     "name": "stdout",
     "output_type": "stream",
     "text": [
      "1\n",
      "1\n",
      "1 1\n",
      "1\n"
     ]
    }
   ],
   "source": [
    "def dfs(v):\n",
    "    visited[v] = True\n",
    "    for i in adj[v]:\n",
    "        if not visited[i]:\n",
    "            dfs(i)\n",
    "    \n",
    "\n",
    "T = int(input())\n",
    "\n",
    "for _ in range(T):\n",
    "    N = int(input())\n",
    "    adj = [[] for _ in range(N + 1)]\n",
    "    arr = list(map(int, input().split()))\n",
    "    \n",
    "    for i in range(1, N + 1):\n",
    "        adj[i].append(arr[i-1])\n",
    "        \n",
    "    visited = [False] * (N + 1)\n",
    "    count = 0\n",
    "    for i in range(1, N + 1):\n",
    "        if not visited[i]:\n",
    "            dfs(i)\n",
    "            count+= 1\n",
    "    print(count)"
   ]
  },
  {
   "cell_type": "code",
   "execution_count": null,
   "metadata": {},
   "outputs": [],
   "source": []
  }
 ],
 "metadata": {
  "kernelspec": {
   "display_name": "Python 3",
   "language": "python",
   "name": "python3"
  },
  "language_info": {
   "codemirror_mode": {
    "name": "ipython",
    "version": 3
   },
   "file_extension": ".py",
   "mimetype": "text/x-python",
   "name": "python",
   "nbconvert_exporter": "python",
   "pygments_lexer": "ipython3",
   "version": "3.7.6"
  }
 },
 "nbformat": 4,
 "nbformat_minor": 4
}
