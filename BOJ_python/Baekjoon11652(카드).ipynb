{
 "cells": [
  {
   "cell_type": "code",
   "execution_count": 33,
   "metadata": {},
   "outputs": [
    {
     "name": "stdout",
     "output_type": "stream",
     "text": [
      "5\n",
      "3\n",
      "3\n",
      "3\n",
      "2\n",
      "1\n",
      "aa {3: 2, 2: 0, 1: 0}\n",
      "bb [(3, 2), (1, 0), (2, 0)]\n",
      "3\n"
     ]
    }
   ],
   "source": [
    "N = int(input())\n",
    "dict = {}\n",
    "\n",
    "for _ in range(N):\n",
    "    num = int(input())\n",
    "    if num in dict:\n",
    "        dict[num] += 1\n",
    "    else:\n",
    "        dict[num] = 0\n",
    "print('aa', dict)\n",
    "dict = sorted(dict.items(), key = lambda data:(-data[1], data[0]))\n",
    "print('bb', dict)\n",
    "print(dict[0][0])"
   ]
  },
  {
   "cell_type": "code",
   "execution_count": 22,
   "metadata": {},
   "outputs": [
    {
     "name": "stdout",
     "output_type": "stream",
     "text": [
      "5\n",
      "1\n",
      "2\n",
      "1\n",
      "2\n",
      "1\n",
      "1\n"
     ]
    }
   ],
   "source": [
    "N = int(input())\n",
    "dict = {}\n",
    "\n",
    "for _ in range(N):\n",
    "    num = int(input())\n",
    "    if num in dict.keys():\n",
    "        dict[num] += 1\n",
    "    else:\n",
    "        dict[num] = 0\n",
    "\n",
    "dict = sorted(dict.items(), key = lambda data:(-data[1], data[0]))\n",
    "print(dict[0][0])\n",
    "\n"
   ]
  },
  {
   "cell_type": "markdown",
   "metadata": {},
   "source": [
    "1\n",
    "2\n",
    "1\n",
    "## "
   ]
  }
 ],
 "metadata": {
  "kernelspec": {
   "display_name": "Python 3",
   "language": "python",
   "name": "python3"
  },
  "language_info": {
   "codemirror_mode": {
    "name": "ipython",
    "version": 3
   },
   "file_extension": ".py",
   "mimetype": "text/x-python",
   "name": "python",
   "nbconvert_exporter": "python",
   "pygments_lexer": "ipython3",
   "version": "3.7.6"
  }
 },
 "nbformat": 4,
 "nbformat_minor": 4
}
