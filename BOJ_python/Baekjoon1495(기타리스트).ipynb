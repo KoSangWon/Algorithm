{
 "cells": [
  {
   "cell_type": "code",
   "execution_count": 29,
   "metadata": {},
   "outputs": [
    {
     "name": "stdout",
     "output_type": "stream",
     "text": [
      "3 5 10\n",
      "5 3 7\n",
      "10\n"
     ]
    }
   ],
   "source": [
    "n, s, m = map(int, input().split())  \n",
    "v = list(map(int, input().split()))\n",
    "\n",
    "dp = [[False] * (m + 1) for _ in range(n + 1)]\n",
    "\n",
    "dp[0][s] = True\n",
    "\n",
    "for i in range(1, n + 1):\n",
    "    for j in range(0, m + 1):\n",
    "        if dp[i-1][j] == 0:\n",
    "            continue\n",
    "            \n",
    "        if j - v[i-1] >= 0:\n",
    "            dp[i][j-v[i-1]] = True\n",
    "        \n",
    "        if j + v[i-1] <= m:\n",
    "            dp[i][j+v[i-1]] = True\n",
    "\n",
    "result = -1\n",
    "for i in range(m, -1, -1):\n",
    "    if dp[n][i] == True:\n",
    "        result = i\n",
    "        break\n",
    "        \n",
    "print(result)\n",
    "    "
   ]
  },
  {
   "cell_type": "code",
   "execution_count": null,
   "metadata": {},
   "outputs": [],
   "source": []
  }
 ],
 "metadata": {
  "kernelspec": {
   "display_name": "Python 3",
   "language": "python",
   "name": "python3"
  },
  "language_info": {
   "codemirror_mode": {
    "name": "ipython",
    "version": 3
   },
   "file_extension": ".py",
   "mimetype": "text/x-python",
   "name": "python",
   "nbconvert_exporter": "python",
   "pygments_lexer": "ipython3",
   "version": "3.7.6"
  }
 },
 "nbformat": 4,
 "nbformat_minor": 4
}
