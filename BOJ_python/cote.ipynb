{
 "cells": [
  {
   "cell_type": "code",
   "execution_count": 15,
   "metadata": {},
   "outputs": [
    {
     "data": {
      "text/plain": [
       "'Tue'"
      ]
     },
     "execution_count": 15,
     "metadata": {},
     "output_type": "execute_result"
    }
   ],
   "source": [
    "# first\n",
    "def solution(S, K):\n",
    "    arr = [\"Mon\", \"Tue\", \"Wed\", \"Thu\", \"Fri\", \"Sat\", \"Sun\"]\n",
    "    return arr[(arr.index(S) + K) % 7]\n",
    "    \n",
    "solution(\"Sun\", 2)\n",
    "        "
   ]
  },
  {
   "cell_type": "code",
   "execution_count": 67,
   "metadata": {},
   "outputs": [
    {
     "name": "stdout",
     "output_type": "stream",
     "text": [
      "-5999\n"
     ]
    }
   ],
   "source": [
    "# second\n",
    "def solution(N):\n",
    "    arr = list(str(N))\n",
    "    new_arr = []\n",
    "    for i in range(len(arr) + 1):\n",
    "        if arr[i] == '-':\n",
    "            continue\n",
    "        arr = list(str(N))\n",
    "        arr.insert(i, '5')\n",
    "        new_arr.append(int(''.join(arr)))\n",
    "    print(max(new_arr))\n",
    "    \n",
    "solution(-999)"
   ]
  },
  {
   "cell_type": "code",
   "execution_count": 74,
   "metadata": {
    "scrolled": true
   },
   "outputs": [
    {
     "name": "stdout",
     "output_type": "stream",
     "text": [
      "[-5999, -9599, -9959, -9995]\n"
     ]
    },
    {
     "data": {
      "text/plain": [
       "-5999"
      ]
     },
     "execution_count": 74,
     "metadata": {},
     "output_type": "execute_result"
    }
   ],
   "source": [
    "# first\n",
    "def solution(n):\n",
    "    arr = list(str(n))\n",
    "    result = []\n",
    "    for i in range(len(arr) + 1):\n",
    "        \n",
    "        arr = list(str(n))\n",
    "        arr.insert(i, '5')\n",
    "        \n",
    "        result.append(''.join(arr))\n",
    "    if n >= 0:\n",
    "        result = list(map(int, result))\n",
    "    else:\n",
    "        result = list(map(int, result[1:]))\n",
    "        \n",
    "    print(result)\n",
    "    return max(result)\n",
    "\n",
    "solution(-999)"
   ]
  },
  {
   "cell_type": "code",
   "execution_count": null,
   "metadata": {},
   "outputs": [],
   "source": [
    "#include <iostream>\n",
    "#include <vector>\n",
    "#include <cstring>\n",
    "\n",
    "using namespace std;\n",
    "\n",
    "int solution(string &S, vector<int> &C)\n",
    "{\n",
    "    int cost = 0;\n",
    "    for (int i = 0; i < S.size(); i++)\n",
    "    {\n",
    "        int max_idx = 0;\n",
    "        int max_value = -1;\n",
    "        int j;\n",
    "        for (j = i; S[i] == S[j]; j++)\n",
    "        {\n",
    "            if (C[j] > max_value)\n",
    "            {\n",
    "                max_value = C[j];\n",
    "                max_idx = j;\n",
    "            }\n",
    "        }\n",
    "        for (j = i; S[i] == S[j]; j++)\n",
    "        {\n",
    "            if (j == max_idx)\n",
    "                continue;\n",
    "            cost += C[j];\n",
    "        }\n",
    "        i = j - 1;\n",
    "    }\n",
    "    return cost;\n",
    "}"
   ]
  },
  {
   "cell_type": "code",
   "execution_count": 166,
   "metadata": {},
   "outputs": [
    {
     "name": "stdout",
     "output_type": "stream",
     "text": [
      "{'a': 2, 'b': 1, 'd': 1, 'c': 1}\n"
     ]
    }
   ],
   "source": [
    "arr = ['a','b','a','d','c']\n",
    "\n",
    "dic = {}\n",
    "\n",
    "for i in arr:\n",
    "    if i in dic.keys():\n",
    "        dic[i] += 1\n",
    "    else:\n",
    "        dic[i] = 1\n",
    "\n",
    "print(dic)"
   ]
  },
  {
   "cell_type": "code",
   "execution_count": 167,
   "metadata": {},
   "outputs": [
    {
     "name": "stdout",
     "output_type": "stream",
     "text": [
      "[[2], [2], [2]]\n"
     ]
    }
   ],
   "source": [
    "arr = [[] for _ in range(3)]\n",
    "print(arr)"
   ]
  },
  {
   "cell_type": "code",
   "execution_count": null,
   "metadata": {},
   "outputs": [],
   "source": []
  }
 ],
 "metadata": {
  "kernelspec": {
   "display_name": "Python 3",
   "language": "python",
   "name": "python3"
  },
  "language_info": {
   "codemirror_mode": {
    "name": "ipython",
    "version": 3
   },
   "file_extension": ".py",
   "mimetype": "text/x-python",
   "name": "python",
   "nbconvert_exporter": "python",
   "pygments_lexer": "ipython3",
   "version": "3.7.6"
  }
 },
 "nbformat": 4,
 "nbformat_minor": 4
}
