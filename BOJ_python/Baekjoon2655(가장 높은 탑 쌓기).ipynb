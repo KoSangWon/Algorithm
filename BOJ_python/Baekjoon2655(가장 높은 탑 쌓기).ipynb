{
 "cells": [
  {
   "cell_type": "code",
   "execution_count": 10,
   "metadata": {},
   "outputs": [
    {
     "name": "stdout",
     "output_type": "stream",
     "text": [
      "5\n",
      "25 3 4\n",
      "4 4 6\n",
      "9 2 3\n",
      "16 2 5\n",
      "1 5 2\n",
      "3\n",
      "5\n",
      "3\n",
      "1\n",
      "0\n"
     ]
    }
   ],
   "source": [
    "n = int(input())\n",
    "arr = []\n",
    "arr.append((0, 0, 0, 0)) # 초기값\n",
    "\n",
    "for i in range(1, n + 1):\n",
    "    area, height, weight = map(int, input().split())\n",
    "    arr.append((i, area, height, weight)) # 튜플로 넣어줌\n",
    "    \n",
    "arr.sort(key=lambda data: data[3]) # 무게 순으로 정렬\n",
    "\n",
    "dp = [0] * (n + 1) # 초기화\n",
    "\n",
    "for i in range(1, n + 1):\n",
    "    for j in range(0, i):\n",
    "        if arr[i][1] > arr[j][1]: # 넓이가 더 큰 경우만\n",
    "            dp[i] = max(dp[i], dp[j] + arr[i][2]) # 현재 dp[i] 값과 dp[j]에 i번째의 높이를 더한 값 중 큰 값으로 갱신\n",
    "    \n",
    "max_value = max(dp)\n",
    "index = n\n",
    "result = []\n",
    "\n",
    "while index != 0:\n",
    "    if max_value == dp[index]:\n",
    "        result.append(arr[index][0]) # 최대 값인 경우 result에 추가\n",
    "        max_value -= arr[index][2] # 높이 빼주기, 마지막에 max_value는 0이 될 것임.\n",
    "    index -= 1\n",
    "    \n",
    "result.reverse()\n",
    "print(len(result))\n",
    "for i in result:\n",
    "    print(i)"
   ]
  },
  {
   "cell_type": "code",
   "execution_count": null,
   "metadata": {},
   "outputs": [],
   "source": []
  }
 ],
 "metadata": {
  "kernelspec": {
   "display_name": "Python 3",
   "language": "python",
   "name": "python3"
  },
  "language_info": {
   "codemirror_mode": {
    "name": "ipython",
    "version": 3
   },
   "file_extension": ".py",
   "mimetype": "text/x-python",
   "name": "python",
   "nbconvert_exporter": "python",
   "pygments_lexer": "ipython3",
   "version": "3.7.6"
  }
 },
 "nbformat": 4,
 "nbformat_minor": 4
}
