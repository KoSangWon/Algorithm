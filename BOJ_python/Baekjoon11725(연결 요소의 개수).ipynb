{
 "cells": [
  {
   "cell_type": "code",
   "execution_count": 20,
   "metadata": {},
   "outputs": [
    {
     "name": "stdout",
     "output_type": "stream",
     "text": [
      "6 8\n",
      "1 2\n",
      "2 5\n",
      "5 1\n",
      "3 4\n",
      "4 6\n",
      "5 4\n",
      "2 4\n",
      "2 3\n",
      "1\n"
     ]
    }
   ],
   "source": [
    "N, M = map(int, input().split())\n",
    "adj = [[] for _ in range(N + 1)]\n",
    "visited = [False] * (N + 1)\n",
    "count = 0\n",
    "\n",
    "for _ in range(M):\n",
    "    u, v = map(int, input().split())\n",
    "    adj[u].append(v)\n",
    "    adj[v].append(u)\n",
    "\n",
    "def dfs(v):\n",
    "    visited[v] = True\n",
    "    for i in adj[v]:\n",
    "        if not visited[i]:\n",
    "            dfs(i)\n",
    "            \n",
    "for i in range(1, N + 1):\n",
    "    if not visited[i]:\n",
    "        dfs(i)\n",
    "        count += 1\n",
    "    \n",
    "print(count)\n",
    "            \n"
   ]
  }
 ],
 "metadata": {
  "kernelspec": {
   "display_name": "Python 3",
   "language": "python",
   "name": "python3"
  },
  "language_info": {
   "codemirror_mode": {
    "name": "ipython",
    "version": 3
   },
   "file_extension": ".py",
   "mimetype": "text/x-python",
   "name": "python",
   "nbconvert_exporter": "python",
   "pygments_lexer": "ipython3",
   "version": "3.7.6"
  }
 },
 "nbformat": 4,
 "nbformat_minor": 4
}
