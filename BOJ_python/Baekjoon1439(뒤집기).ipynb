{
 "cells": [
  {
   "cell_type": "code",
   "execution_count": 2,
   "metadata": {},
   "outputs": [
    {
     "name": "stdout",
     "output_type": "stream",
     "text": [
      "0001100\n",
      "1\n"
     ]
    }
   ],
   "source": [
    "str = input()\n",
    "cnt0 = 0 # 전부 0으로 바꾸는 경우\n",
    "cnt1 = 0 # 전부 1로 바꾸는 경우\n",
    "\n",
    "if str[0] == '0':\n",
    "    cnt1 += 1\n",
    "else:\n",
    "    cnt0 += 1\n",
    "\n",
    "for i in range(len(str) - 1):\n",
    "    if str[i] != str[i + 1]:\n",
    "        if str[i + 1] == '1':\n",
    "            cnt0 += 1\n",
    "        else:\n",
    "            cnt1 += 1\n",
    "\n",
    "print(min(cnt0, cnt1))\n"
   ]
  },
  {
   "cell_type": "code",
   "execution_count": null,
   "metadata": {},
   "outputs": [],
   "source": []
  }
 ],
 "metadata": {
  "kernelspec": {
   "display_name": "Python 3",
   "language": "python",
   "name": "python3"
  },
  "language_info": {
   "codemirror_mode": {
    "name": "ipython",
    "version": 3
   },
   "file_extension": ".py",
   "mimetype": "text/x-python",
   "name": "python",
   "nbconvert_exporter": "python",
   "pygments_lexer": "ipython3",
   "version": "3.7.6"
  }
 },
 "nbformat": 4,
 "nbformat_minor": 4
}
