{
 "cells": [
  {
   "cell_type": "code",
   "execution_count": 15,
   "metadata": {},
   "outputs": [
    {
     "name": "stdout",
     "output_type": "stream",
     "text": [
      "baekjoon\n",
      "1 0 -1 -1 2 -1 -1 -1 -1 4 3 -1 -1 7 5 -1 -1 -1 -1 -1 -1 -1 -1 -1 -1 -1 "
     ]
    }
   ],
   "source": [
    "s = input()\n",
    "dic = {}\n",
    "\n",
    "for i in range(len(s)):\n",
    "    if s[i] not in dic.keys():\n",
    "        dic[s[i]] = i\n",
    "\n",
    "for i in range(ord('a'), ord('z') + 1):\n",
    "    if chr(i) in dic.keys():\n",
    "        print(dic[chr(i)], end=' ')\n",
    "    else:\n",
    "        print(-1, end=' ')"
   ]
  },
  {
   "cell_type": "code",
   "execution_count": 16,
   "metadata": {},
   "outputs": [
    {
     "name": "stdout",
     "output_type": "stream",
     "text": [
      "baekjoon\n",
      "1 0 -1 -1 2 -1 -1 -1 -1 4 3 -1 -1 7 5 -1 -1 -1 -1 -1 -1 -1 -1 -1 -1 -1\n"
     ]
    }
   ],
   "source": [
    "print(*map(input().find, map(chr, range(97, 123))), sep =\" \")"
   ]
  },
  {
   "cell_type": "code",
   "execution_count": 7,
   "metadata": {},
   "outputs": [
    {
     "name": "stdout",
     "output_type": "stream",
     "text": [
      "baekjooon\n",
      "1 0 -1 -1 2 -1 -1 -1 -1 4 3 -1 -1 8 5 -1 -1 -1 -1 -1 -1 -1 -1 -1 -1 -1 "
     ]
    }
   ],
   "source": [
    "s = input()\n",
    "# baekjoon\n",
    "dic = {}\n",
    "for i in range(len(s)):\n",
    "    if s[i] not in dic.keys():\n",
    "        dic[s[i]] = i\n",
    "\n",
    "for i in range(ord('a'), ord('z') + 1):\n",
    "    if chr(i) in dic.keys():\n",
    "        print(dic[chr(i)], end=' ')\n",
    "    else:\n",
    "        print(-1, end=' ')"
   ]
  },
  {
   "cell_type": "code",
   "execution_count": 17,
   "metadata": {},
   "outputs": [
    {
     "name": "stdout",
     "output_type": "stream",
     "text": [
      "adfsaf\n",
      "{'A': 2, 'D': 1, 'F': 2, 'S': 1}\n",
      "?\n"
     ]
    }
   ],
   "source": [
    "a = input()\n",
    "dic = {}\n",
    "for i in a:\n",
    "    up_i = i.upper()\n",
    "    if up_i in dic.keys():\n",
    "        dic[up_i] += 1\n",
    "    else:\n",
    "        dic[up_i] = 1\n",
    "        \n",
    "print(dic)\n",
    "max_cnt = max(dic.values()) \n",
    "cnt = 0\n",
    "result = []\n",
    "for key, value in dic.items():\n",
    "    if value == max_cnt:\n",
    "        result.append(key)\n",
    "\n",
    "if len(result) == 1:\n",
    "    print(result[0])\n",
    "else:\n",
    "    print('?')\n",
    "    "
   ]
  },
  {
   "cell_type": "code",
   "execution_count": null,
   "metadata": {},
   "outputs": [],
   "source": []
  }
 ],
 "metadata": {
  "kernelspec": {
   "display_name": "Python 3",
   "language": "python",
   "name": "python3"
  },
  "language_info": {
   "codemirror_mode": {
    "name": "ipython",
    "version": 3
   },
   "file_extension": ".py",
   "mimetype": "text/x-python",
   "name": "python",
   "nbconvert_exporter": "python",
   "pygments_lexer": "ipython3",
   "version": "3.7.6"
  }
 },
 "nbformat": 4,
 "nbformat_minor": 4
}
