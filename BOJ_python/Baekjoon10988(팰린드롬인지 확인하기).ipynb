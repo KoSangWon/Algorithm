{
 "cells": [
  {
   "cell_type": "code",
   "execution_count": 11,
   "metadata": {},
   "outputs": [
    {
     "name": "stdout",
     "output_type": "stream",
     "text": [
      "abcdef\n",
      "['f', 'e', 'd', 'c', 'b', 'a']\n",
      "fedcba\n",
      "[4, 3, 2]\n"
     ]
    }
   ],
   "source": [
    "# reversed\n",
    "word = input()\n",
    "print(list(reversed(word)))\n",
    "print(''.join(list(reversed(word))))\n",
    "\n",
    "# reverse\n",
    "li = [2,3,4]\n",
    "li.reverse()\n",
    "print(li)"
   ]
  },
  {
   "cell_type": "code",
   "execution_count": 18,
   "metadata": {},
   "outputs": [
    {
     "name": "stdout",
     "output_type": "stream",
     "text": [
      "adas\n",
      "0\n"
     ]
    }
   ],
   "source": [
    "word = input()\n",
    "\n",
    "if ''.join(reversed(list(word))) == word:\n",
    "    print(1)\n",
    "else:\n",
    "    print(0)"
   ]
  },
  {
   "cell_type": "code",
   "execution_count": 23,
   "metadata": {},
   "outputs": [
    {
     "name": "stdout",
     "output_type": "stream",
     "text": [
      "asdfadf\n",
      "fdafdsa\n",
      "asdfadf\n"
     ]
    }
   ],
   "source": [
    "word = list(input())\n",
    "\n",
    "word.reverse()\n",
    "print(''.join(word))\n",
    "\n",
    "print(''.join(reversed(list(word))))\n"
   ]
  },
  {
   "cell_type": "code",
   "execution_count": 20,
   "metadata": {},
   "outputs": [
    {
     "name": "stdout",
     "output_type": "stream",
     "text": [
      "aaas\n",
      "0\n"
     ]
    }
   ],
   "source": [
    "word = input()\n",
    "if word == word[::-1]:\n",
    "    print(1)\n",
    "else:\n",
    "    print(0)"
   ]
  },
  {
   "cell_type": "code",
   "execution_count": 22,
   "metadata": {},
   "outputs": [
    {
     "name": "stdout",
     "output_type": "stream",
     "text": [
      "abbb\n",
      "0\n"
     ]
    }
   ],
   "source": [
    "word = input()\n",
    "\n",
    "start = 0\n",
    "end = len(word) - 1\n",
    "flag = True\n",
    "\n",
    "while start <= end:\n",
    "    if word[start] != word[end]:\n",
    "        flag = False\n",
    "        break\n",
    "    start += 1\n",
    "    end -= 1\n",
    "\n",
    "if flag:\n",
    "    print(1)\n",
    "else:\n",
    "    print(0)"
   ]
  },
  {
   "cell_type": "code",
   "execution_count": 32,
   "metadata": {},
   "outputs": [
    {
     "name": "stdout",
     "output_type": "stream",
     "text": [
      "3\n"
     ]
    }
   ],
   "source": [
    "def sol(arr):\n",
    "    return 15-sum(arr)\n",
    "    \n",
    "print(sol([2,1,4,5]))\n",
    "        "
   ]
  },
  {
   "cell_type": "code",
   "execution_count": 1,
   "metadata": {},
   "outputs": [
    {
     "name": "stdout",
     "output_type": "stream",
     "text": [
      "abadf\n",
      "0\n"
     ]
    }
   ],
   "source": [
    "word = input()\n",
    "\n",
    "start = 0\n",
    "end = len(word) - 1\n",
    "flag = True\n",
    "\n",
    "while start <= end:\n",
    "    if word[start] != word[end]:\n",
    "        flag = False\n",
    "        break\n",
    "    start += 1\n",
    "    end -= 1\n",
    "\n",
    "if flag:\n",
    "    print(1)\n",
    "else:\n",
    "    print(0)"
   ]
  },
  {
   "cell_type": "code",
   "execution_count": 7,
   "metadata": {},
   "outputs": [
    {
     "data": {
      "text/plain": [
       "True"
      ]
     },
     "execution_count": 7,
     "metadata": {},
     "output_type": "execute_result"
    }
   ],
   "source": [
    "def is_palindrome(word):\n",
    "    list_word = list(word)\n",
    "    for i in range(0, len(list_word) // 2):\n",
    "        if list_word[i] == list_word[len(list_word) - 1 - i]:\n",
    "            continue\n",
    "        else:\n",
    "            return False\n",
    "\n",
    "    return True\n",
    "\n",
    "is_palindrome(\"acbca\")"
   ]
  },
  {
   "cell_type": "code",
   "execution_count": 12,
   "metadata": {},
   "outputs": [
    {
     "name": "stdout",
     "output_type": "stream",
     "text": [
      "True\n"
     ]
    }
   ],
   "source": [
    "def is_pelindrome(word):\n",
    "    n = len(word) // 2\n",
    "    for i in range(n):\n",
    "        if word[i] != word[len(word) - 1 - i]:\n",
    "            return False\n",
    "        \n",
    "    return True\n",
    "\n",
    "print(is_pelindrome('accbcca'))"
   ]
  },
  {
   "cell_type": "code",
   "execution_count": 10,
   "metadata": {},
   "outputs": [
    {
     "data": {
      "text/plain": [
       "5"
      ]
     },
     "execution_count": 10,
     "metadata": {},
     "output_type": "execute_result"
    }
   ],
   "source": [
    "def find_num(arr):\n",
    "    return 15 - sum(arr)\n",
    "\n",
    "find_num([2,3,4,1])"
   ]
  },
  {
   "cell_type": "code",
   "execution_count": 17,
   "metadata": {},
   "outputs": [
    {
     "name": "stdout",
     "output_type": "stream",
     "text": [
      "a 1\n",
      "b 1\n",
      "c 1\n",
      "d 2\n",
      "s 2\n",
      "{'a': 1, 'b': 1, 'c': 1, 'd': 2, 's': 2}\n"
     ]
    }
   ],
   "source": [
    "def make_cnt(arr):\n",
    "    dic = {}\n",
    "    for i in arr:\n",
    "        if i in dic.keys():\n",
    "            dic[i] += 1\n",
    "        else:\n",
    "            dic[i] = 1\n",
    "    for key, value in dic.items():\n",
    "        print(key, value)\n",
    "    return dic\n",
    "\n",
    "print(make_cnt('abcdssd'))"
   ]
  },
  {
   "cell_type": "code",
   "execution_count": 26,
   "metadata": {},
   "outputs": [
    {
     "name": "stdout",
     "output_type": "stream",
     "text": [
      "3\n",
      "OOXXOXXOOO\n",
      "10\n",
      "OOXXOOXXOO\n",
      "9\n",
      "OXOXOXOXOXOXOX\n",
      "7\n"
     ]
    }
   ],
   "source": [
    "t = int(input())\n",
    "\n",
    "for _ in range(t):\n",
    "    arr = input()\n",
    "    cnt = 0\n",
    "    score = 0\n",
    "    for i in arr:\n",
    "        if i == 'O':\n",
    "            cnt += 1\n",
    "            score += cnt\n",
    "        else:\n",
    "            cnt = 0\n",
    "\n",
    "    print(score)"
   ]
  },
  {
   "cell_type": "code",
   "execution_count": null,
   "metadata": {},
   "outputs": [],
   "source": []
  }
 ],
 "metadata": {
  "kernelspec": {
   "display_name": "Python 3",
   "language": "python",
   "name": "python3"
  },
  "language_info": {
   "codemirror_mode": {
    "name": "ipython",
    "version": 3
   },
   "file_extension": ".py",
   "mimetype": "text/x-python",
   "name": "python",
   "nbconvert_exporter": "python",
   "pygments_lexer": "ipython3",
   "version": "3.7.6"
  }
 },
 "nbformat": 4,
 "nbformat_minor": 4
}
