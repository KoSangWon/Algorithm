{
 "cells": [
  {
   "cell_type": "code",
   "execution_count": 11,
   "metadata": {},
   "outputs": [
    {
     "name": "stdout",
     "output_type": "stream",
     "text": [
      "abcdef\n",
      "['f', 'e', 'd', 'c', 'b', 'a']\n",
      "fedcba\n",
      "[4, 3, 2]\n"
     ]
    }
   ],
   "source": [
    "# reversed\n",
    "word = input()\n",
    "print(list(reversed(word)))\n",
    "print(''.join(list(reversed(word))))\n",
    "\n",
    "# reverse\n",
    "li = [2,3,4]\n",
    "li.reverse()\n",
    "print(li)"
   ]
  },
  {
   "cell_type": "code",
   "execution_count": 18,
   "metadata": {},
   "outputs": [
    {
     "name": "stdout",
     "output_type": "stream",
     "text": [
      "adas\n",
      "0\n"
     ]
    }
   ],
   "source": [
    "word = input()\n",
    "\n",
    "if ''.join(reversed(list(word))) == word:\n",
    "    print(1)\n",
    "else:\n",
    "    print(0)"
   ]
  },
  {
   "cell_type": "code",
   "execution_count": 20,
   "metadata": {},
   "outputs": [
    {
     "name": "stdout",
     "output_type": "stream",
     "text": [
      "aaas\n",
      "0\n"
     ]
    }
   ],
   "source": [
    "word = input()\n",
    "if word == word[::-1]:\n",
    "    print(1)\n",
    "else:\n",
    "    print(0)"
   ]
  },
  {
   "cell_type": "code",
   "execution_count": 22,
   "metadata": {},
   "outputs": [
    {
     "name": "stdout",
     "output_type": "stream",
     "text": [
      "abbb\n",
      "0\n"
     ]
    }
   ],
   "source": [
    "word = input()\n",
    "\n",
    "start = 0\n",
    "end = len(word) - 1\n",
    "flag = True\n",
    "\n",
    "while start <= end:\n",
    "    if word[start] != word[end]:\n",
    "        flag = False\n",
    "        break\n",
    "    start += 1\n",
    "    end -= 1\n",
    "\n",
    "if flag:\n",
    "    print(1)\n",
    "else:\n",
    "    print(0)"
   ]
  },
  {
   "cell_type": "code",
   "execution_count": 32,
   "metadata": {},
   "outputs": [
    {
     "name": "stdout",
     "output_type": "stream",
     "text": [
      "3\n"
     ]
    }
   ],
   "source": [
    "def sol(arr):\n",
    "    return 15-sum(arr)\n",
    "    \n",
    "print(sol([2,1,4,5]))\n",
    "        "
   ]
  },
  {
   "cell_type": "code",
   "execution_count": null,
   "metadata": {},
   "outputs": [],
   "source": []
  }
 ],
 "metadata": {
  "kernelspec": {
   "display_name": "Python 3",
   "language": "python",
   "name": "python3"
  },
  "language_info": {
   "codemirror_mode": {
    "name": "ipython",
    "version": 3
   },
   "file_extension": ".py",
   "mimetype": "text/x-python",
   "name": "python",
   "nbconvert_exporter": "python",
   "pygments_lexer": "ipython3",
   "version": "3.7.6"
  }
 },
 "nbformat": 4,
 "nbformat_minor": 4
}
