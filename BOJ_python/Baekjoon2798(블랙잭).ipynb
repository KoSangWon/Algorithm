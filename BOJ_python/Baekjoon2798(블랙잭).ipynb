{
 "cells": [
  {
   "cell_type": "code",
   "execution_count": 18,
   "metadata": {},
   "outputs": [
    {
     "name": "stdout",
     "output_type": "stream",
     "text": [
      "10 500\n",
      "93 181 245 214 315 36 185 138 216 295\n",
      "497\n"
     ]
    }
   ],
   "source": [
    "n, m = list(map(int, input().split(' ')))\n",
    "data = list(map(int, input().split(' ')))\n",
    "\n",
    "result = 0\n",
    "length = len(data)\n",
    "\n",
    "count = 0\n",
    "for i in range(0, length-2):\n",
    "    for j in range(i+1, length-1):\n",
    "        for k in range(j+1, length):\n",
    "            sum_value = data[i] + data[j] + data[k]\n",
    "            if sum_value <= m:\n",
    "                result = max(result, sum_value)\n",
    "                \n",
    "print(result)"
   ]
  },
  {
   "cell_type": "code",
   "execution_count": null,
   "metadata": {},
   "outputs": [],
   "source": []
  }
 ],
 "metadata": {
  "kernelspec": {
   "display_name": "Python 3",
   "language": "python",
   "name": "python3"
  },
  "language_info": {
   "codemirror_mode": {
    "name": "ipython",
    "version": 3
   },
   "file_extension": ".py",
   "mimetype": "text/x-python",
   "name": "python",
   "nbconvert_exporter": "python",
   "pygments_lexer": "ipython3",
   "version": "3.7.6"
  }
 },
 "nbformat": 4,
 "nbformat_minor": 4
}
