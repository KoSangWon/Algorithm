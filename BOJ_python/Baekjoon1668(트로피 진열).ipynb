{
 "cells": [
  {
   "cell_type": "code",
   "execution_count": 23,
   "metadata": {},
   "outputs": [
    {
     "name": "stdout",
     "output_type": "stream",
     "text": [
      "5\n",
      "100\n",
      "2\n",
      "1\n",
      "99\n",
      "4\n",
      "1\n",
      "3\n"
     ]
    }
   ],
   "source": [
    "n = int(input())\n",
    "arr_height = []\n",
    "\n",
    "for _ in range(n):\n",
    "    height = int(input())\n",
    "    arr_height.append(height)\n",
    "    \n",
    "max_left_height = arr_height[0]\n",
    "max_right_height = arr_height[n-1]\n",
    "\n",
    "left_cnt = 1\n",
    "right_cnt = 1\n",
    "\n",
    "for i in range(n):\n",
    "    if arr_height[i] > max_left_height:\n",
    "        max_left_height = arr_height[i]\n",
    "        left_cnt += 1\n",
    "    if arr_height[n-i-1] > max_right_height:\n",
    "        max_right_height = arr_height[n-i-1]\n",
    "        right_cnt += 1\n",
    "        \n",
    "print(left_cnt, right_cnt, sep='\\n')"
   ]
  },
  {
   "cell_type": "code",
   "execution_count": 25,
   "metadata": {},
   "outputs": [
    {
     "name": "stdout",
     "output_type": "stream",
     "text": [
      "5\n",
      "4\n",
      "2\n",
      "3\n",
      "2\n",
      "3\n",
      "1\n",
      "2\n"
     ]
    }
   ],
   "source": [
    "def ascending(array):\n",
    "    now = array[0]\n",
    "    result = 1\n",
    "    for i in range(1, len(array)):\n",
    "        if now < array[i]:\n",
    "            result += 1\n",
    "            now = array[i]\n",
    "    return result\n",
    "\n",
    "n = int(input())\n",
    "array = []\n",
    "\n",
    "for _ in range(n):\n",
    "    array.append(int(input()))\n",
    "                 \n",
    "print(ascending(array))\n",
    "array.reverse()\n",
    "print(ascending(array))"
   ]
  },
  {
   "cell_type": "code",
   "execution_count": 4,
   "metadata": {},
   "outputs": [
    {
     "name": "stdout",
     "output_type": "stream",
     "text": [
      "5\n",
      "1\n",
      "2\n",
      "3\n",
      "4\n",
      "5\n",
      "5\n",
      "1\n"
     ]
    }
   ],
   "source": [
    "N = int(input())\n",
    "array = []\n",
    "for _ in range(N):\n",
    "    array.append(int(input()))\n",
    "\n",
    "def cnt(arr):\n",
    "    count = 0\n",
    "    max_height = 0\n",
    "    for i in range(len(arr)):\n",
    "        if arr[i] > max_height:\n",
    "            max_height = arr[i]\n",
    "            count += 1\n",
    "    return count\n",
    "\n",
    "print(cnt(array))\n",
    "array.reverse()\n",
    "print(cnt(array))"
   ]
  },
  {
   "cell_type": "code",
   "execution_count": null,
   "metadata": {},
   "outputs": [],
   "source": []
  }
 ],
 "metadata": {
  "kernelspec": {
   "display_name": "Python 3",
   "language": "python",
   "name": "python3"
  },
  "language_info": {
   "codemirror_mode": {
    "name": "ipython",
    "version": 3
   },
   "file_extension": ".py",
   "mimetype": "text/x-python",
   "name": "python",
   "nbconvert_exporter": "python",
   "pygments_lexer": "ipython3",
   "version": "3.7.6"
  }
 },
 "nbformat": 4,
 "nbformat_minor": 4
}
