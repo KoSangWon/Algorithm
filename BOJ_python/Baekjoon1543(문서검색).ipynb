{
 "cells": [
  {
   "cell_type": "code",
   "execution_count": 4,
   "metadata": {},
   "outputs": [
    {
     "name": "stdout",
     "output_type": "stream",
     "text": [
      "a a a a a\n",
      "a a\n",
      "2\n"
     ]
    }
   ],
   "source": [
    "doc = input()\n",
    "word = input()\n",
    "\n",
    "index = 0\n",
    "cnt = 0\n",
    "\n",
    "while len(doc) - index >= len(word):\n",
    "    if doc[index:index+len(word)] == word:\n",
    "        cnt += 1\n",
    "        index += len(word)\n",
    "    else:\n",
    "        index += 1\n",
    "\n",
    "print(cnt)\n"
   ]
  },
  {
   "cell_type": "code",
   "execution_count": 1,
   "metadata": {},
   "outputs": [
    {
     "name": "stdout",
     "output_type": "stream",
     "text": [
      "abab\n",
      "aba\n",
      "1\n"
     ]
    }
   ],
   "source": [
    "doc = input() #ababababa\n",
    "word = input() #aba\n",
    "\n",
    "index = 0\n",
    "cnt = 0\n",
    "\n",
    "while len(doc) - index >= len(word):\n",
    "    if doc[index:index+len(word)] == word:\n",
    "        cnt += 1\n",
    "        index += len(word)\n",
    "    else:\n",
    "        index += 1\n",
    "\n",
    "print(cnt)"
   ]
  },
  {
   "cell_type": "code",
   "execution_count": null,
   "metadata": {},
   "outputs": [],
   "source": []
  }
 ],
 "metadata": {
  "kernelspec": {
   "display_name": "Python 3",
   "language": "python",
   "name": "python3"
  },
  "language_info": {
   "codemirror_mode": {
    "name": "ipython",
    "version": 3
   },
   "file_extension": ".py",
   "mimetype": "text/x-python",
   "name": "python",
   "nbconvert_exporter": "python",
   "pygments_lexer": "ipython3",
   "version": "3.7.6"
  }
 },
 "nbformat": 4,
 "nbformat_minor": 4
}
