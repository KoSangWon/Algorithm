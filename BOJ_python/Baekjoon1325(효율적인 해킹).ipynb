{
 "cells": [
  {
   "cell_type": "code",
   "execution_count": 23,
   "metadata": {},
   "outputs": [
    {
     "name": "stdout",
     "output_type": "stream",
     "text": [
      "5 4\n",
      "3 1\n",
      "3 2\n",
      "4 3\n",
      "5 3\n",
      "1 2 "
     ]
    }
   ],
   "source": [
    "from collections import deque\n",
    "\n",
    "n, m = map(int, input().split())\n",
    "cnt = 0\n",
    "adj = [[] for _ in range(n+1)]\n",
    "arr = []\n",
    "\n",
    "def bfs(v):\n",
    "    q = deque([v])\n",
    "    global cnt\n",
    "    while q:\n",
    "        v = q.popleft()\n",
    "        if not visited[v]:\n",
    "            visited[v] = True\n",
    "            cnt += 1\n",
    "            for e in adj[v]:\n",
    "                if not visited[e]:\n",
    "                    q.append(e)\n",
    "    \n",
    "# def dfs(v):\n",
    "#     visited[v] = True\n",
    "#     global cnt\n",
    "#     cnt = cnt + 1\n",
    "#     for e in adj[v]:\n",
    "#         if not visited[e]:\n",
    "#             dfs(e)\n",
    "    \n",
    "            \n",
    "for _ in range(m):\n",
    "    x, y = map(int, input().split())\n",
    "    adj[y].append(x)\n",
    "\n",
    "for i in range(1, n + 1):\n",
    "    cnt = 0\n",
    "    visited = [False] * (n + 1)\n",
    "    bfs(i)\n",
    "    arr.append(cnt)\n",
    "    \n",
    "maximum = max(arr)\n",
    "for i, v in enumerate(arr):\n",
    "    if v == maximum:\n",
    "        print(i + 1, end=\" \")"
   ]
  },
  {
   "cell_type": "code",
   "execution_count": 22,
   "metadata": {},
   "outputs": [
    {
     "name": "stdout",
     "output_type": "stream",
     "text": [
      "5 4\n",
      "3 1\n",
      "3 2\n",
      "4 3\n",
      "5 3\n",
      "1 2 "
     ]
    }
   ],
   "source": [
    "from collections import deque\n",
    "\n",
    "n, m = map(int, input().split())\n",
    "adj = [[] for _ in range(n+1)]\n",
    "\n",
    "for _ in range(m):\n",
    "    x, y = map(int, input().split())\n",
    "    adj[y].append(x)\n",
    "\n",
    "\n",
    "def bfs(v):\n",
    "    q = deque([v])\n",
    "    visited = [False] * (n + 1)\n",
    "    visited[v] = True\n",
    "    count = 1\n",
    "    while q:\n",
    "        v = q.popleft()\n",
    "        for e in adj[v]:\n",
    "            if not visited[e]:\n",
    "                q.append(e)\n",
    "                visited[e] = True\n",
    "                count += 1\n",
    "    return count\n",
    "\n",
    "result = []\n",
    "max_value = -1\n",
    "\n",
    "for i in range(1, n + 1):\n",
    "    c = bfs(i)\n",
    "    if c > max_value:\n",
    "        result = [i]\n",
    "        max_value = c\n",
    "    elif c == max_value:\n",
    "        result.append(i)\n",
    "        max_value = c\n",
    "\n",
    "for e in result:\n",
    "    print(e, end=\" \")"
   ]
  },
  {
   "cell_type": "code",
   "execution_count": null,
   "metadata": {},
   "outputs": [],
   "source": []
  }
 ],
 "metadata": {
  "kernelspec": {
   "display_name": "Python 3",
   "language": "python",
   "name": "python3"
  },
  "language_info": {
   "codemirror_mode": {
    "name": "ipython",
    "version": 3
   },
   "file_extension": ".py",
   "mimetype": "text/x-python",
   "name": "python",
   "nbconvert_exporter": "python",
   "pygments_lexer": "ipython3",
   "version": "3.7.6"
  }
 },
 "nbformat": 4,
 "nbformat_minor": 4
}
