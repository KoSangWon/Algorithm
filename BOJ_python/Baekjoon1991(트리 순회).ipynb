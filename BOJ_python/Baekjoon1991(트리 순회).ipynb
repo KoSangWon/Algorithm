{
 "cells": [
  {
   "cell_type": "code",
   "execution_count": 1,
   "metadata": {},
   "outputs": [],
   "source": [
    "class Node:\n",
    "    def __init__(self, item, lchild, rchild):\n",
    "        self.item = item\n",
    "        self.lchild = lchild\n",
    "        self.rchild = rchild\n",
    "        \n",
    "def preorder(node):\n",
    "    print(node.item, end='')\n",
    "    if node.lchild != '.':\n",
    "        preorder(tree[node.lchild])\n",
    "    if node.rchild != '.':\n",
    "        preorder(tree[node.rchild])\n",
    "        \n",
    "def inorder(node):\n",
    "    if node.lchild != '.':\n",
    "        preorder(tree[node.lchild])\n",
    "    print(node.item, end='')\n",
    "    if node.rchild != '.':\n",
    "        preorder(tree[node.rchild])\n",
    "        \n",
    "def postorder(node):\n",
    "    if node.lchild != '.':\n",
    "        preorder(tree[node.lchild])\n",
    "    if node.rchild != '.':\n",
    "        preorder(tree[node.rchild])\n",
    "    print(node.item, end='')\n",
    "    \n",
    "N = int(input())\n",
    "tree = {}\n",
    "for _ in range(N):\n",
    "    data = input().split()\n",
    "    tree[data[0]] = Node(item=data[0], lchild=data[1], rchild=data[2])\n",
    "    \n",
    "preorder(tree['A'])\n",
    "print()\n",
    "inorder(tree['A'])\n",
    "print()\n",
    "postorder(tree['A'])"
   ]
  },
  {
   "cell_type": "code",
   "execution_count": 6,
   "metadata": {},
   "outputs": [
    {
     "name": "stdout",
     "output_type": "stream",
     "text": [
      "aaaa\n"
     ]
    }
   ],
   "source": [
    "print(\"aa\", end='')\n",
    "print(\"aa\")"
   ]
  },
  {
   "cell_type": "code",
   "execution_count": null,
   "metadata": {},
   "outputs": [],
   "source": []
  }
 ],
 "metadata": {
  "kernelspec": {
   "display_name": "Python 3",
   "language": "python",
   "name": "python3"
  },
  "language_info": {
   "codemirror_mode": {
    "name": "ipython",
    "version": 3
   },
   "file_extension": ".py",
   "mimetype": "text/x-python",
   "name": "python",
   "nbconvert_exporter": "python",
   "pygments_lexer": "ipython3",
   "version": "3.7.6"
  }
 },
 "nbformat": 4,
 "nbformat_minor": 4
}
