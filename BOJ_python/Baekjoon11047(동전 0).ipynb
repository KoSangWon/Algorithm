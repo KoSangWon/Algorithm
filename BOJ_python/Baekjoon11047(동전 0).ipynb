{
 "cells": [
  {
   "cell_type": "code",
   "execution_count": 47,
   "metadata": {},
   "outputs": [
    {
     "name": "stdout",
     "output_type": "stream",
     "text": [
      "670\n",
      "6750\n"
     ]
    }
   ],
   "source": [
    "n = int(input())\n",
    "\n",
    "arr = list(str(n))\n",
    "result = []\n",
    "for i in range(len(arr) + 1):\n",
    "    \n",
    "    arr = list(str(n))\n",
    "    arr.insert(i, '5')\n",
    "    \n",
    "    result.append(''.join(arr))\n",
    "if n >= 0:\n",
    "    result = list(map(int, result))\n",
    "else:\n",
    "    result = list(map(int, result[1:]))\n",
    "print(max(result))\n",
    "\n",
    "    "
   ]
  },
  {
   "cell_type": "markdown",
   "metadata": {},
   "source": [
    "#include <iostream>\n",
    "#include <vector>\n",
    "#include <cstring>\n",
    "\n",
    "using namespace std;\n",
    "\n",
    "int solution(string &S, vector<int> &C)\n",
    "{\n",
    "    int cost = 0;\n",
    "    for (int i = 0; i < int(S.size()); i++)\n",
    "    {\n",
    "        int max_idx = 0;\n",
    "        int max_value = -1;\n",
    "        int j;\n",
    "        for (j = i; S[i] == S[j]; j++)\n",
    "        {\n",
    "            if (C[j] > max_value)\n",
    "            {\n",
    "                max_value = C[j];\n",
    "                max_idx = j;\n",
    "            }\n",
    "        }\n",
    "        for (j = i; S[i] == S[j]; j++)\n",
    "        {\n",
    "            if (j == max_idx)\n",
    "                continue;\n",
    "            cost += C[j];\n",
    "        }\n",
    "        i = j - 1;\n",
    "    }\n",
    "    return cost;\n",
    "}\n"
   ]
  },
  {
   "cell_type": "code",
   "execution_count": 52,
   "metadata": {},
   "outputs": [
    {
     "data": {
      "text/plain": [
       "3"
      ]
     },
     "execution_count": 52,
     "metadata": {},
     "output_type": "execute_result"
    }
   ],
   "source": [
    "def solution(S, C):\n",
    "    cost = 0\n",
    "    for i in range(len(S)):\n",
    "        max_idx = 0\n",
    "        max_value = -1\n",
    "        for j in range(i, len(S)):\n",
    "            if S[i]==S[j]:\n",
    "                if C[j] > max_value:\n",
    "                    max_value = C[j]\n",
    "                    max_idx = j\n",
    "                    \n",
    "        for j in range(i, len(S)):\n",
    "            if S[i]==S[j]:\n",
    "                if j == max_idx:\n",
    "                    continue\n",
    "                cost += C[i]\n",
    "        i = j - 1\n",
    "    return cost\n",
    "solution('abccbd', [0, 1, 2, 3, 4, 5])\n",
    "    "
   ]
  },
  {
   "cell_type": "code",
   "execution_count": null,
   "metadata": {},
   "outputs": [],
   "source": []
  }
 ],
 "metadata": {
  "kernelspec": {
   "display_name": "Python 3",
   "language": "python",
   "name": "python3"
  },
  "language_info": {
   "codemirror_mode": {
    "name": "ipython",
    "version": 3
   },
   "file_extension": ".py",
   "mimetype": "text/x-python",
   "name": "python",
   "nbconvert_exporter": "python",
   "pygments_lexer": "ipython3",
   "version": "3.7.6"
  }
 },
 "nbformat": 4,
 "nbformat_minor": 4
}
