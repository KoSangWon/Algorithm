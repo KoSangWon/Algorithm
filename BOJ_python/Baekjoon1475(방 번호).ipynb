{
 "cells": [
  {
   "cell_type": "code",
   "execution_count": 20,
   "metadata": {},
   "outputs": [
    {
     "name": "stdout",
     "output_type": "stream",
     "text": [
      "66999123\n",
      "3\n"
     ]
    }
   ],
   "source": [
    "import math\n",
    "\n",
    "N = input()\n",
    "cnt_arr = [0]*10\n",
    "\n",
    "for i in N:\n",
    "    cnt_arr[int(i)] += 1\n",
    "\n",
    "cnt_arr[6] = math.ceil((cnt_arr[9] + cnt_arr[6])/2)\n",
    "cnt_arr[9] = 0\n",
    "\n",
    "print(max(cnt_arr))\n"
   ]
  },
  {
   "cell_type": "code",
   "execution_count": null,
   "metadata": {},
   "outputs": [],
   "source": []
  }
 ],
 "metadata": {
  "kernelspec": {
   "display_name": "Python 3",
   "language": "python",
   "name": "python3"
  },
  "language_info": {
   "codemirror_mode": {
    "name": "ipython",
    "version": 3
   },
   "file_extension": ".py",
   "mimetype": "text/x-python",
   "name": "python",
   "nbconvert_exporter": "python",
   "pygments_lexer": "ipython3",
   "version": "3.7.6"
  }
 },
 "nbformat": 4,
 "nbformat_minor": 4
}
