{
 "cells": [
  {
   "cell_type": "code",
   "execution_count": 15,
   "metadata": {},
   "outputs": [
    {
     "name": "stdout",
     "output_type": "stream",
     "text": [
      "5\n",
      "t\n",
      "t\n",
      "t\n",
      "t\n",
      "a\n",
      "t\n"
     ]
    }
   ],
   "source": [
    "n = int(input())\n",
    "arr = []\n",
    "num_arr = []\n",
    "\n",
    "for i in range(0, n):\n",
    "    title = input()\n",
    "    arr.append(title)\n",
    "\n",
    "arr.sort()\n",
    "\n",
    "for i in range(0, n):\n",
    "    cnt = 1\n",
    "    for j in range(0, i):\n",
    "        if arr[i] == arr[j]:\n",
    "            cnt += 1\n",
    "    num_arr.append(cnt)\n",
    "    \n",
    "maxcnt = max(num_arr)\n",
    "for i in range(0, n):\n",
    "    if num_arr[i] == maxcnt:\n",
    "        print(arr[i])\n",
    "        break\n",
    "\n"
   ]
  },
  {
   "cell_type": "markdown",
   "metadata": {},
   "source": [
    "### 등장 횟수를 계산할 때는 Dictionary 자료형을 이용하면 효과적"
   ]
  },
  {
   "cell_type": "code",
   "execution_count": 14,
   "metadata": {},
   "outputs": [
    {
     "name": "stdout",
     "output_type": "stream",
     "text": [
      "5\n",
      "top\n",
      "top\n",
      "top\n",
      "top\n",
      "ki\n",
      "dict_values([4, 1])\n",
      "top\n"
     ]
    }
   ],
   "source": [
    "n = int(input())\n",
    "\n",
    "books = {}\n",
    "\n",
    "for _ in range(n):\n",
    "    book = input()\n",
    "    if book not in books:\n",
    "        books[book] = 1\n",
    "    else:\n",
    "        books[book] += 1\n",
    "        \n",
    "        \n",
    "print(books.values())\n",
    "target = max(books.values())\n",
    "arr = []\n",
    "\n",
    "for book, number in books.items():\n",
    "    if number == target:\n",
    "        arr.append(book)\n",
    "        \n",
    "print(sorted(arr)[0])"
   ]
  },
  {
   "cell_type": "code",
   "execution_count": 13,
   "metadata": {},
   "outputs": [
    {
     "name": "stdout",
     "output_type": "stream",
     "text": [
      "['a', 'b', 'c']\n",
      "None\n",
      "['a', 'b', 'c']\n"
     ]
    }
   ],
   "source": [
    "a = ['b','a','c']\n",
    "print(sorted(a))\n",
    "b = ['b','a','c']\n",
    "print(b.sort())\n",
    "b.sort()\n",
    "print(b)"
   ]
  },
  {
   "cell_type": "code",
   "execution_count": null,
   "metadata": {},
   "outputs": [],
   "source": []
  }
 ],
 "metadata": {
  "kernelspec": {
   "display_name": "Python 3",
   "language": "python",
   "name": "python3"
  },
  "language_info": {
   "codemirror_mode": {
    "name": "ipython",
    "version": 3
   },
   "file_extension": ".py",
   "mimetype": "text/x-python",
   "name": "python",
   "nbconvert_exporter": "python",
   "pygments_lexer": "ipython3",
   "version": "3.7.6"
  }
 },
 "nbformat": 4,
 "nbformat_minor": 4
}
