{
 "cells": [
  {
   "cell_type": "code",
   "execution_count": 6,
   "metadata": {},
   "outputs": [
    {
     "name": "stdout",
     "output_type": "stream",
     "text": [
      "2\n",
      "3\n",
      "2\n",
      "3\n",
      "1\n",
      "3\n",
      "2\n",
      "3\n",
      "4\n",
      "[(2, 3), (2, 2), (2, 3), (2, 1), (2, 3), (2, 2), (2, 3), (2, 4), (3, 2), (3, 2), (3, 3), (3, 1), (3, 3), (3, 2), (3, 3), (3, 4), (2, 2), (2, 3), (2, 3), (2, 1), (2, 3), (2, 2), (2, 3), (2, 4), (3, 2), (3, 3), (3, 2), (3, 1), (3, 3), (3, 2), (3, 3), (3, 4), (1, 2), (1, 3), (1, 2), (1, 3), (1, 3), (1, 2), (1, 3), (1, 4), (3, 2), (3, 3), (3, 2), (3, 3), (3, 1), (3, 2), (3, 3), (3, 4), (2, 2), (2, 3), (2, 2), (2, 3), (2, 1), (2, 3), (2, 3), (2, 4), (3, 2), (3, 3), (3, 2), (3, 3), (3, 1), (3, 3), (3, 2), (3, 4), (4, 2), (4, 3), (4, 2), (4, 3), (4, 1), (4, 3), (4, 2), (4, 3)]\n"
     ]
    }
   ],
   "source": [
    "from itertools import permutations\n",
    "from itertools import combinations\n",
    "\n",
    "arr=[]\n",
    "for i in range(9):\n",
    "    arr.append(int(input()))\n",
    "    \n",
    "print(list(permutations(arr, 2)))"
   ]
  },
  {
   "cell_type": "code",
   "execution_count": 43,
   "metadata": {},
   "outputs": [
    {
     "name": "stdout",
     "output_type": "stream",
     "text": [
      "20\n",
      "7\n",
      "23\n",
      "19\n",
      "10\n",
      "15\n",
      "25\n",
      "8\n",
      "13\n",
      "7\n",
      "8\n",
      "10\n",
      "13\n",
      "19\n",
      "20\n",
      "23\n"
     ]
    }
   ],
   "source": [
    "# 한개를 삭제 했을 때 index가 줄어드는 것 주의\n",
    "# for문을 사용한 완전 탐색\n",
    "\n",
    "arr = []\n",
    "\n",
    "for _ in range(9):\n",
    "    arr.append(int(input()))\n",
    "    \n",
    "def sol(arr):\n",
    "    for i in range(0, 9):\n",
    "        for j in range(i+1, 9):\n",
    "            if sum(arr) - arr[i] - arr[j] == 100:\n",
    "                arr.pop(i)\n",
    "                arr.pop(j - 1)\n",
    "                return arr\n",
    "            \n",
    "result = sol(arr)\n",
    "result.sort()\n",
    "for i in result:\n",
    "    print(i)"
   ]
  },
  {
   "cell_type": "code",
   "execution_count": 11,
   "metadata": {},
   "outputs": [],
   "source": [
    "for i in range(9,8):\n",
    "    print(i)"
   ]
  },
  {
   "cell_type": "code",
   "execution_count": 13,
   "metadata": {},
   "outputs": [
    {
     "data": {
      "text/plain": [
       "5"
      ]
     },
     "execution_count": 13,
     "metadata": {},
     "output_type": "execute_result"
    }
   ],
   "source": [
    "sum([2,3])"
   ]
  },
  {
   "cell_type": "code",
   "execution_count": null,
   "metadata": {},
   "outputs": [],
   "source": []
  }
 ],
 "metadata": {
  "kernelspec": {
   "display_name": "Python 3",
   "language": "python",
   "name": "python3"
  },
  "language_info": {
   "codemirror_mode": {
    "name": "ipython",
    "version": 3
   },
   "file_extension": ".py",
   "mimetype": "text/x-python",
   "name": "python",
   "nbconvert_exporter": "python",
   "pygments_lexer": "ipython3",
   "version": "3.7.6"
  }
 },
 "nbformat": 4,
 "nbformat_minor": 4
}
