{
 "cells": [
  {
   "cell_type": "code",
   "execution_count": 3,
   "metadata": {},
   "outputs": [
    {
     "name": "stdout",
     "output_type": "stream",
     "text": [
      "2 3\n"
     ]
    }
   ],
   "source": [
    "n, m = map(int, input().split())\n",
    "check=[0 for _ in range(n+1)]\n",
    "result=[0 for _ in range(m)]\n",
    " \n",
    "def sequence(index,n,m):\n",
    "    if index==m:\n",
    "        for i in range(m):\n",
    "            print(result[i], end=' ')\n",
    "        print()\n",
    "        return\n",
    " \n",
    "    for i in range(1,n+1):\n",
    "        if check[i]==1:\n",
    "            continue\n",
    "        result[index]=i\n",
    "        check[i]=1\n",
    "        sequence(index+1,n,m)\n",
    "        check[i]=0\n",
    " \n",
    "sequence(0,n,m)"
   ]
  },
  {
   "cell_type": "code",
   "execution_count": null,
   "metadata": {},
   "outputs": [],
   "source": []
  }
 ],
 "metadata": {
  "kernelspec": {
   "display_name": "Python 3",
   "language": "python",
   "name": "python3"
  },
  "language_info": {
   "codemirror_mode": {
    "name": "ipython",
    "version": 3
   },
   "file_extension": ".py",
   "mimetype": "text/x-python",
   "name": "python",
   "nbconvert_exporter": "python",
   "pygments_lexer": "ipython3",
   "version": "3.7.6"
  }
 },
 "nbformat": 4,
 "nbformat_minor": 4
}
