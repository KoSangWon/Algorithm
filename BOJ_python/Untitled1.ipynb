{
 "cells": [
  {
   "cell_type": "code",
   "execution_count": 18,
   "metadata": {},
   "outputs": [],
   "source": [
    "def solution(A):\n",
    "    s = {x for x in A if x > 0}\n",
    "    if not s:\n",
    "        return 1\n",
    "    last = max(s)+1\n",
    "\n",
    "    # Find elements present in either of the two sets, but not common to both the sets\n",
    "    new_set = s^set(range(1, last))\n",
    "    print('new_set', s^set(range(1, last)))\n",
    "    if not new_set:\n",
    "        return last\n",
    "    return min(new_set)\n"
   ]
  },
  {
   "cell_type": "code",
   "execution_count": 19,
   "metadata": {},
   "outputs": [
    {
     "name": "stdout",
     "output_type": "stream",
     "text": [
      "1 5 3\n",
      "new_set {2, 4}\n",
      "2\n"
     ]
    }
   ],
   "source": [
    "A = list(map(int, input().split()))\n",
    "print(solution(A))"
   ]
  },
  {
   "cell_type": "code",
   "execution_count": null,
   "metadata": {},
   "outputs": [],
   "source": []
  }
 ],
 "metadata": {
  "kernelspec": {
   "display_name": "Python 3",
   "language": "python",
   "name": "python3"
  },
  "language_info": {
   "codemirror_mode": {
    "name": "ipython",
    "version": 3
   },
   "file_extension": ".py",
   "mimetype": "text/x-python",
   "name": "python",
   "nbconvert_exporter": "python",
   "pygments_lexer": "ipython3",
   "version": "3.7.6"
  }
 },
 "nbformat": 4,
 "nbformat_minor": 4
}
