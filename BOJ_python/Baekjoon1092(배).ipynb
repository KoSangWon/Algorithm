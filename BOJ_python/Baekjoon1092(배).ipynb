{
 "cells": [
  {
   "cell_type": "code",
   "execution_count": 26,
   "metadata": {},
   "outputs": [
    {
     "name": "stdout",
     "output_type": "stream",
     "text": [
      "3\n",
      "6 8 9\n",
      "5\n",
      "2 5 2 4 7\n",
      "2\n"
     ]
    }
   ],
   "source": [
    "import sys\n",
    "\n",
    "n = int(input())\n",
    "cranes = list(map(int, input().split()))\n",
    "m = int(input())\n",
    "boxes = list(map(int, input().split()))\n",
    "\n",
    "# 모든 박스를 옮길 수 없는 경우\n",
    "if max(cranes) < max(boxes):\n",
    "    print(-1)\n",
    "    sys.exit()\n",
    "    \n",
    "# 각 크레인이 현재 옮겨야 하는 박스의 번호 (0부터 시작)\n",
    "positions = [0] * n\n",
    "\n",
    "# 각 박스를 옮겼는지의 여부\n",
    "checked = [False] * m\n",
    "\n",
    "# 최적의 해를 구해야 하므로, 내림차순 정렬\n",
    "cranes.sort(reverse=True)\n",
    "boxes.sort(reverse=True)\n",
    "\n",
    "result = 0\n",
    "cnt = 0\n",
    "\n",
    "while True:\n",
    "    if cnt == len(boxes): # 박스를 다 옮겼다면 종료\n",
    "        break\n",
    "    for i in range(n):\n",
    "        while positions[i] < len(boxes): # 아직 안 옮긴 박스 중에서, 옮길 수 있는 박스를 만날 때까지 반복\n",
    "            if not checked[positions[i]] and cranes[i] >= boxes[positions[i]]:\n",
    "                checked[positions[i]] = True\n",
    "                positions[i] += 1\n",
    "                cnt += 1\n",
    "                break\n",
    "            positions[i] += 1\n",
    "    result += 1\n",
    "    \n",
    "print(result)"
   ]
  },
  {
   "cell_type": "markdown",
   "metadata": {},
   "source": []
  }
 ],
 "metadata": {
  "kernelspec": {
   "display_name": "Python 3",
   "language": "python",
   "name": "python3"
  },
  "language_info": {
   "codemirror_mode": {
    "name": "ipython",
    "version": 3
   },
   "file_extension": ".py",
   "mimetype": "text/x-python",
   "name": "python",
   "nbconvert_exporter": "python",
   "pygments_lexer": "ipython3",
   "version": "3.7.6"
  }
 },
 "nbformat": 4,
 "nbformat_minor": 4
}
