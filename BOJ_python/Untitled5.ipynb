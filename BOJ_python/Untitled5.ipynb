{
 "cells": [
  {
   "cell_type": "code",
   "execution_count": 1,
   "metadata": {},
   "outputs": [
    {
     "name": "stdout",
     "output_type": "stream",
     "text": [
      "2\n",
      "12"
     ]
    }
   ],
   "source": [
    "def back_tracking(idx):\n",
    "    for i in range(1, (idx//2) + 1):\n",
    "        if s[-i:] == s[-2*i:-i]: return -1\n",
    "\n",
    "    if idx == n:\n",
    "        for i in range(n): print(s[i], end = '')\n",
    "        return 0\n",
    "\n",
    "    for i in range(1, 4):\n",
    "        s.append(i)\n",
    "        if back_tracking(idx + 1) == 0:\n",
    "            return 0\n",
    "        s.pop()\n",
    "\n",
    "if __name__ == \"__main__\":\n",
    "    n = int(input())\n",
    "    s = []\n",
    "    back_tracking(0)"
   ]
  },
  {
   "cell_type": "code",
   "execution_count": null,
   "metadata": {},
   "outputs": [],
   "source": []
  }
 ],
 "metadata": {
  "kernelspec": {
   "display_name": "Python 3",
   "language": "python",
   "name": "python3"
  },
  "language_info": {
   "codemirror_mode": {
    "name": "ipython",
    "version": 3
   },
   "file_extension": ".py",
   "mimetype": "text/x-python",
   "name": "python",
   "nbconvert_exporter": "python",
   "pygments_lexer": "ipython3",
   "version": "3.7.6"
  }
 },
 "nbformat": 4,
 "nbformat_minor": 4
}
