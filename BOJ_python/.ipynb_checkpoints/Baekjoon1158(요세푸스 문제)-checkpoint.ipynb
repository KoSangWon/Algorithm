{
 "cells": [
  {
   "cell_type": "code",
   "execution_count": 13,
   "metadata": {},
   "outputs": [
    {
     "name": "stdout",
     "output_type": "stream",
     "text": [
      "7 3\n",
      "<3, 6, 2, 7, 5, 1, 4>"
     ]
    }
   ],
   "source": [
    "# queue를 list로 사용했을 때 시간초과 남\n",
    "\n",
    "N, K = map(int, input().split())\n",
    "queue = []\n",
    "\n",
    "queue = [i for i in range(1, N+1)]\n",
    "\n",
    "print('<', end='')\n",
    "\n",
    "for _ in range(N):\n",
    "    for i in range(K):\n",
    "            if i == K - 1:\n",
    "                if len(queue) != 1:\n",
    "                    print(queue.pop(0), end=', ')\n",
    "                else:\n",
    "                    print(queue.pop(0), end='>')\n",
    "            else:\n",
    "                queue.append(queue.pop(0))"
   ]
  },
  {
   "cell_type": "code",
   "execution_count": 15,
   "metadata": {},
   "outputs": [
    {
     "name": "stdout",
     "output_type": "stream",
     "text": [
      "7 3\n",
      "<3, 6, 2, 7, 5, 1, 4>"
     ]
    }
   ],
   "source": [
    "# deque import해서 하니까 시간초과 안남\n",
    "\n",
    "from collections import deque\n",
    "\n",
    "N, K = map(int, input().split())\n",
    "queue = deque()\n",
    "\n",
    "for i in range(N):\n",
    "    queue.append(i + 1)\n",
    "\n",
    "print('<', end='')\n",
    "\n",
    "for _ in range(N):\n",
    "    for i in range(K):\n",
    "            if i == K - 1:\n",
    "                if len(queue) != 1:\n",
    "                    print(queue.popleft(), end=', ')\n",
    "                else:\n",
    "                    print(queue.popleft(), end='>')\n",
    "            else:\n",
    "                queue.append(queue.popleft())    "
   ]
  },
  {
   "cell_type": "code",
   "execution_count": 28,
   "metadata": {},
   "outputs": [
    {
     "name": "stdout",
     "output_type": "stream",
     "text": [
      "7 3\n",
      "<3, 6, 2, 7, 5, 1, 4>\n"
     ]
    }
   ],
   "source": [
    "# 더 빠른 풀이\n",
    "N,K = map(int,input().split())\n",
    "arr = [i for i in range(1,N+1)]    # 맨 처음에 원에 앉아있는 사람들\n",
    "\n",
    "answer = []   # 제거된 사람들을 넣을 배열\n",
    "num = 0  # 제거될 사람의 인덱스 번호\n",
    "\n",
    "for t in range(N):\n",
    "    num += K-1  \n",
    "    if num >= len(arr):   # 한바퀴를 돌고 그다음으로 돌아올때를 대비해 값을 나머지로 바꿈  \n",
    "        num = num%len(arr)\n",
    " \n",
    "    answer.append(str(arr.pop(num)))\n",
    "print(\"<\",\", \".join(answer),\">\", sep='')"
   ]
  }
 ],
 "metadata": {
  "kernelspec": {
   "display_name": "Python 3",
   "language": "python",
   "name": "python3"
  },
  "language_info": {
   "codemirror_mode": {
    "name": "ipython",
    "version": 3
   },
   "file_extension": ".py",
   "mimetype": "text/x-python",
   "name": "python",
   "nbconvert_exporter": "python",
   "pygments_lexer": "ipython3",
   "version": "3.7.6"
  }
 },
 "nbformat": 4,
 "nbformat_minor": 4
}
