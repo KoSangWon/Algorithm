{
 "cells": [
  {
   "cell_type": "code",
   "execution_count": 3,
   "metadata": {},
   "outputs": [
    {
     "name": "stdout",
     "output_type": "stream",
     "text": [
      "[4, 3, 2, 1]\n"
     ]
    }
   ],
   "source": [
    "def reverse_arr(arr, start, end):\n",
    "    while start <= end:\n",
    "        arr[start], arr[end] = arr[end], arr[start]\n",
    "        start += 1\n",
    "        end -= 1\n",
    "    return arr\n",
    "\n",
    "print(reverse_arr([1,2,3,4],0,3))"
   ]
  },
  {
   "cell_type": "code",
   "execution_count": 13,
   "metadata": {},
   "outputs": [
    {
     "name": "stdout",
     "output_type": "stream",
     "text": [
      "[2, 3, 4, 1]\n"
     ]
    }
   ],
   "source": [
    "def jugling(arr, n):\n",
    "    temp = arr[0]\n",
    "    for i in range(n - 1):\n",
    "        arr[i] = arr[i + 1]\n",
    "    arr[n - 1] = temp\n",
    "    return arr\n",
    "\n",
    "print(jugling([1,2,3,4], 4))"
   ]
  },
  {
   "cell_type": "code",
   "execution_count": 89,
   "metadata": {},
   "outputs": [],
   "source": [
    "# 버블정렬\n",
    "# 피보나치(재귀, dp)\n",
    "# 이분탐색(일반, 재귀)"
   ]
  },
  {
   "cell_type": "code",
   "execution_count": 90,
   "metadata": {},
   "outputs": [
    {
     "data": {
      "text/plain": [
       "[1, 2, 3, 4]"
      ]
     },
     "execution_count": 90,
     "metadata": {},
     "output_type": "execute_result"
    }
   ],
   "source": [
    "# 버블정렬\n",
    "def bubble(li):\n",
    "    n = len(li)\n",
    "    for i in range(n - 1):\n",
    "        for j in range(n - i - 1):\n",
    "            if li[j] > li[j + 1]:\n",
    "                li[j], li[j + 1] = li[j + 1], li[j]\n",
    "    return li\n",
    "\n",
    "bubble([2,3,1,4])"
   ]
  },
  {
   "cell_type": "code",
   "execution_count": 91,
   "metadata": {},
   "outputs": [
    {
     "data": {
      "text/plain": [
       "8"
      ]
     },
     "execution_count": 91,
     "metadata": {},
     "output_type": "execute_result"
    }
   ],
   "source": [
    "# 피보나치 재귀\n",
    "def fibonacci_recursion(n):\n",
    "    if n <= 1:\n",
    "        return 1\n",
    "    return fibonacci_recursion(n - 1) + fibonacci_recursion(n - 2)\n",
    "\n",
    "fibonacci_recursion(5)"
   ]
  },
  {
   "cell_type": "code",
   "execution_count": 96,
   "metadata": {},
   "outputs": [
    {
     "name": "stdout",
     "output_type": "stream",
     "text": [
      "[1, 1, 2, 3, 5, 8, 13, 21, 34, 55]\n"
     ]
    }
   ],
   "source": [
    "# 피보나치 DP\n",
    "dp = []\n",
    "for x in range(10):\n",
    "    if x <= 1:\n",
    "        dp.append(1)\n",
    "    else:\n",
    "        dp.append(dp[x - 1] + dp[x - 2])\n",
    "\n",
    "print(dp)"
   ]
  },
  {
   "cell_type": "code",
   "execution_count": 97,
   "metadata": {},
   "outputs": [
    {
     "data": {
      "text/plain": [
       "2"
      ]
     },
     "execution_count": 97,
     "metadata": {},
     "output_type": "execute_result"
    }
   ],
   "source": [
    "# 이분탐색 일반\n",
    "def binary_search(data, target):\n",
    "    data.sort()\n",
    "    start = 0\n",
    "    end = len(data) - 1\n",
    "    \n",
    "    while start <= end:\n",
    "        mid = (start + end) // 2\n",
    "        if data[mid] == target:\n",
    "            return mid\n",
    "        elif data[mid] < target:\n",
    "            start = mid + 1\n",
    "        else:\n",
    "            end = mid - 1\n",
    "    \n",
    "    return None\n",
    "\n",
    "binary_search([1,2,3,4],3)"
   ]
  },
  {
   "cell_type": "code",
   "execution_count": 99,
   "metadata": {},
   "outputs": [
    {
     "data": {
      "text/plain": [
       "2"
      ]
     },
     "execution_count": 99,
     "metadata": {},
     "output_type": "execute_result"
    }
   ],
   "source": [
    "# 이분탐색 재귀\n",
    "def binary_search_recursion(data, start, end, target):\n",
    "    if start > end:\n",
    "        return\n",
    "    \n",
    "    mid = (start + end) // 2\n",
    "    if data[mid] == target:\n",
    "        return mid\n",
    "    elif data[mid] < target:\n",
    "        start = mid + 1\n",
    "    else:\n",
    "        end = mid - 1\n",
    "    \n",
    "    return binary_search_recursion(data, start, end, target)\n",
    "\n",
    "binary_search([1,2,3,4],3)"
   ]
  },
  {
   "cell_type": "code",
   "execution_count": 109,
   "metadata": {},
   "outputs": [
    {
     "name": "stdout",
     "output_type": "stream",
     "text": [
      "2\n",
      "False\n",
      "True\n"
     ]
    },
    {
     "data": {
      "text/plain": [
       "[]"
      ]
     },
     "execution_count": 109,
     "metadata": {},
     "output_type": "execute_result"
    }
   ],
   "source": [
    "# 스택\n",
    "class Stack():\n",
    "    def __init__(self):\n",
    "        self.stack = []\n",
    "        \n",
    "    def size(self):\n",
    "        return len(self.stack)\n",
    "    def is_empty(self):\n",
    "        return len(self.stack) == 0\n",
    "    def push(self, item):\n",
    "        self.stack.append(item)\n",
    "    def pop(self):\n",
    "        return self.stack.pop()\n",
    "    def peek(self):\n",
    "        return self.stack[-1]\n",
    "    \n",
    "stack = Stack()\n",
    "\n",
    "stack.push(3)\n",
    "stack.push(5)\n",
    "print(stack.size())\n",
    "print(stack.is_empty())\n",
    "stack.pop()\n",
    "stack.pop()\n",
    "print(stack.is_empty())\n",
    "stack.stack"
   ]
  },
  {
   "cell_type": "code",
   "execution_count": 112,
   "metadata": {},
   "outputs": [
    {
     "name": "stdout",
     "output_type": "stream",
     "text": [
      "[3]\n",
      "[]\n"
     ]
    }
   ],
   "source": [
    "# 큐\n",
    "class Queue():\n",
    "    def __init__(self):\n",
    "        self.queue = []\n",
    "    def enqueue(self, item):\n",
    "        self.queue.append(item)\n",
    "    def dequeue(self):\n",
    "        self.queue.pop(0)\n",
    "    def size(self):\n",
    "        return len(self.queue)\n",
    "    def printQueue(self):\n",
    "        print(self.queue)\n",
    "        \n",
    "queue = Queue()\n",
    "queue.enqueue(3)\n",
    "queue.printQueue()\n",
    "queue.dequeue()\n",
    "queue.printQueue()"
   ]
  },
  {
   "cell_type": "code",
   "execution_count": null,
   "metadata": {},
   "outputs": [],
   "source": []
  }
 ],
 "metadata": {
  "kernelspec": {
   "display_name": "Python 3",
   "language": "python",
   "name": "python3"
  },
  "language_info": {
   "codemirror_mode": {
    "name": "ipython",
    "version": 3
   },
   "file_extension": ".py",
   "mimetype": "text/x-python",
   "name": "python",
   "nbconvert_exporter": "python",
   "pygments_lexer": "ipython3",
   "version": "3.7.6"
  }
 },
 "nbformat": 4,
 "nbformat_minor": 4
}
