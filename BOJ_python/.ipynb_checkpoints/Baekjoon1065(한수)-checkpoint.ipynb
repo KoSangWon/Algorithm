{
 "cells": [
  {
   "cell_type": "code",
   "execution_count": 22,
   "metadata": {},
   "outputs": [
    {
     "name": "stdout",
     "output_type": "stream",
     "text": [
      "1000\n",
      "144\n"
     ]
    }
   ],
   "source": [
    "N = int(input())\n",
    "\n",
    "def isAnswer(num):\n",
    "    arr = list(str(num))\n",
    "    flag = False\n",
    "    if len(arr) <= 2:\n",
    "        return True\n",
    "    \n",
    "    term = int(arr[-1]) - int(arr[-2])\n",
    "    for i in range(len(arr)-1, 0, -1):\n",
    "        if term != int(arr[i]) - int(arr[i-1]):\n",
    "            return False\n",
    "    return True\n",
    "\n",
    "cnt = 0\n",
    "for i in range(1, N + 1):\n",
    "    cnt += isAnswer(i)\n",
    "    \n",
    "print(cnt)\n"
   ]
  },
  {
   "cell_type": "code",
   "execution_count": null,
   "metadata": {},
   "outputs": [],
   "source": []
  }
 ],
 "metadata": {
  "kernelspec": {
   "display_name": "Python 3",
   "language": "python",
   "name": "python3"
  },
  "language_info": {
   "codemirror_mode": {
    "name": "ipython",
    "version": 3
   },
   "file_extension": ".py",
   "mimetype": "text/x-python",
   "name": "python",
   "nbconvert_exporter": "python",
   "pygments_lexer": "ipython3",
   "version": "3.7.6"
  }
 },
 "nbformat": 4,
 "nbformat_minor": 4
}
