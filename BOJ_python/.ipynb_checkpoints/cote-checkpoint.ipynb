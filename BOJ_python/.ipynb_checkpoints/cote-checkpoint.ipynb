{
 "cells": [
  {
   "cell_type": "code",
   "execution_count": 15,
   "metadata": {},
   "outputs": [
    {
     "data": {
      "text/plain": [
       "'Tue'"
      ]
     },
     "execution_count": 15,
     "metadata": {},
     "output_type": "execute_result"
    }
   ],
   "source": [
    "# first\n",
    "def solution(S, K):\n",
    "    arr = [\"Mon\", \"Tue\", \"Wed\", \"Thu\", \"Fri\", \"Sat\", \"Sun\"]\n",
    "    return arr[(arr.index(S) + K) % 7]\n",
    "    \n",
    "solution(\"Sun\", 2)\n",
    "        "
   ]
  },
  {
   "cell_type": "code",
   "execution_count": 67,
   "metadata": {},
   "outputs": [
    {
     "name": "stdout",
     "output_type": "stream",
     "text": [
      "-5999\n"
     ]
    }
   ],
   "source": [
    "# second\n",
    "def solution(N):\n",
    "    arr = list(str(N))\n",
    "    new_arr = []\n",
    "    for i in range(len(arr) + 1):\n",
    "        if arr[i] == '-':\n",
    "            continue\n",
    "        arr = list(str(N))\n",
    "        arr.insert(i, '5')\n",
    "        new_arr.append(int(''.join(arr)))\n",
    "    print(max(new_arr))\n",
    "    \n",
    "solution(-999)"
   ]
  },
  {
   "cell_type": "code",
   "execution_count": 74,
   "metadata": {
    "scrolled": true
   },
   "outputs": [
    {
     "name": "stdout",
     "output_type": "stream",
     "text": [
      "[-5999, -9599, -9959, -9995]\n"
     ]
    },
    {
     "data": {
      "text/plain": [
       "-5999"
      ]
     },
     "execution_count": 74,
     "metadata": {},
     "output_type": "execute_result"
    }
   ],
   "source": [
    "# first\n",
    "def solution(n):\n",
    "    arr = list(str(n))\n",
    "    result = []\n",
    "    for i in range(len(arr) + 1):\n",
    "        \n",
    "        arr = list(str(n))\n",
    "        arr.insert(i, '5')\n",
    "        \n",
    "        result.append(''.join(arr))\n",
    "    if n >= 0:\n",
    "        result = list(map(int, result))\n",
    "    else:\n",
    "        result = list(map(int, result[1:]))\n",
    "        \n",
    "    print(result)\n",
    "    return max(result)\n",
    "\n",
    "solution(-999)"
   ]
  },
  {
   "cell_type": "code",
   "execution_count": 138,
   "metadata": {
    "scrolled": true
   },
   "outputs": [
    {
     "name": "stdout",
     "output_type": "stream",
     "text": [
      "[1, 2]\n",
      "1\n",
      "[]\n",
      "1\n",
      "[1, 2]\n",
      "2\n",
      "[]\n",
      "2\n",
      "[1, 2]\n",
      "3\n"
     ]
    }
   ],
   "source": [
    "def solution(S, C):\n",
    "    arr = list(S)\n",
    "    arr.append('A')\n",
    "    C.append(-1)\n",
    "    cost = 0\n",
    "    result = []\n",
    "    for i in range(len(S)-1):\n",
    "        if arr[i] != arr[i+1]:\n",
    "            result = []\n",
    "        if arr[i]==arr[i+1]:\n",
    "            if arr[i+1] == arr[i+2]:\n",
    "                cost = 0\n",
    "                result.append(C[i])\n",
    "            else:\n",
    "                result.append(C[i])\n",
    "                result.append(C[i+1])\n",
    "        if result:\n",
    "            cost += (sum(result) - max(result))\n",
    "        print(result)\n",
    "        print(cost)\n",
    "    \n",
    "\n",
    "#solution('abccbd', [0,1,2,3,4,5])\n",
    "solution('aabbcc', [1,2,1,2,1,2])\n",
    "#solution('aaaa', [3,4,5,6])\n",
    "#solution('ababa', [10,5,10,5,10])"
   ]
  },
  {
   "cell_type": "code",
   "execution_count": 159,
   "metadata": {},
   "outputs": [
    {
     "name": "stdout",
     "output_type": "stream",
     "text": [
      "['a', 'b', 'c', 'c', 'b', 'd']\n",
      "0\n",
      "1\n",
      "2\n",
      "3\n",
      "4\n",
      "5\n"
     ]
    },
    {
     "ename": "IndexError",
     "evalue": "list index out of range",
     "output_type": "error",
     "traceback": [
      "\u001b[0;31m---------------------------------------------------------------------------\u001b[0m",
      "\u001b[0;31mIndexError\u001b[0m                                Traceback (most recent call last)",
      "\u001b[0;32m<ipython-input-159-503c43343adc>\u001b[0m in \u001b[0;36m<module>\u001b[0;34m\u001b[0m\n\u001b[1;32m     25\u001b[0m     \u001b[0;32mreturn\u001b[0m \u001b[0mcost\u001b[0m\u001b[0;34m\u001b[0m\u001b[0;34m\u001b[0m\u001b[0m\n\u001b[1;32m     26\u001b[0m \u001b[0;34m\u001b[0m\u001b[0m\n\u001b[0;32m---> 27\u001b[0;31m \u001b[0msolution\u001b[0m\u001b[0;34m(\u001b[0m\u001b[0;34m'abccbd'\u001b[0m\u001b[0;34m,\u001b[0m \u001b[0;34m[\u001b[0m\u001b[0;36m0\u001b[0m\u001b[0;34m,\u001b[0m\u001b[0;36m1\u001b[0m\u001b[0;34m,\u001b[0m\u001b[0;36m2\u001b[0m\u001b[0;34m,\u001b[0m\u001b[0;36m3\u001b[0m\u001b[0;34m,\u001b[0m\u001b[0;36m4\u001b[0m\u001b[0;34m,\u001b[0m\u001b[0;36m5\u001b[0m\u001b[0;34m]\u001b[0m\u001b[0;34m)\u001b[0m\u001b[0;34m\u001b[0m\u001b[0;34m\u001b[0m\u001b[0m\n\u001b[0m\u001b[1;32m     28\u001b[0m \u001b[0;31m#solution('aabbcc', [1,2,1,2,1,2])\u001b[0m\u001b[0;34m\u001b[0m\u001b[0;34m\u001b[0m\u001b[0;34m\u001b[0m\u001b[0m\n\u001b[1;32m     29\u001b[0m \u001b[0;31m#solution('aaaa', [3,4,5,6])\u001b[0m\u001b[0;34m\u001b[0m\u001b[0;34m\u001b[0m\u001b[0;34m\u001b[0m\u001b[0m\n",
      "\u001b[0;32m<ipython-input-159-503c43343adc>\u001b[0m in \u001b[0;36msolution\u001b[0;34m(S, C)\u001b[0m\n\u001b[1;32m      8\u001b[0m         \u001b[0mmax_value\u001b[0m \u001b[0;34m=\u001b[0m \u001b[0;34m-\u001b[0m\u001b[0;36m1\u001b[0m\u001b[0;34m\u001b[0m\u001b[0;34m\u001b[0m\u001b[0m\n\u001b[1;32m      9\u001b[0m         \u001b[0mj\u001b[0m \u001b[0;34m=\u001b[0m \u001b[0mi\u001b[0m\u001b[0;34m\u001b[0m\u001b[0;34m\u001b[0m\u001b[0m\n\u001b[0;32m---> 10\u001b[0;31m         \u001b[0;32mwhile\u001b[0m \u001b[0marr\u001b[0m\u001b[0;34m[\u001b[0m\u001b[0mi\u001b[0m\u001b[0;34m]\u001b[0m \u001b[0;34m==\u001b[0m \u001b[0marr\u001b[0m\u001b[0;34m[\u001b[0m\u001b[0mj\u001b[0m\u001b[0;34m]\u001b[0m\u001b[0;34m:\u001b[0m\u001b[0;34m\u001b[0m\u001b[0;34m\u001b[0m\u001b[0m\n\u001b[0m\u001b[1;32m     11\u001b[0m             \u001b[0;32mif\u001b[0m \u001b[0mC\u001b[0m\u001b[0;34m[\u001b[0m\u001b[0mj\u001b[0m\u001b[0;34m]\u001b[0m \u001b[0;34m>\u001b[0m \u001b[0mmax_value\u001b[0m\u001b[0;34m:\u001b[0m\u001b[0;34m\u001b[0m\u001b[0;34m\u001b[0m\u001b[0m\n\u001b[1;32m     12\u001b[0m                 \u001b[0mmax_value\u001b[0m \u001b[0;34m=\u001b[0m \u001b[0mC\u001b[0m\u001b[0;34m[\u001b[0m\u001b[0mj\u001b[0m\u001b[0;34m]\u001b[0m\u001b[0;34m\u001b[0m\u001b[0;34m\u001b[0m\u001b[0m\n",
      "\u001b[0;31mIndexError\u001b[0m: list index out of range"
     ]
    }
   ],
   "source": [
    "def solution(S, C):\n",
    "    arr = list(S)\n",
    "    print(arr)\n",
    "    cost = 0\n",
    "    for i in range(len(arr)):\n",
    "        print(i)\n",
    "        max_idx = 0\n",
    "        max_value = -1\n",
    "        j = i\n",
    "        while arr[i] == arr[j]:\n",
    "            if C[j] > max_value:\n",
    "                max_value = C[j]\n",
    "                max_idx = j\n",
    "            j += 1\n",
    "         \n",
    "        j = i\n",
    "        while arr[i] == arr[j]:\n",
    "            if j == max_idx:\n",
    "                j += 1\n",
    "                continue\n",
    "            cost += C[j]\n",
    "            j += 1\n",
    "        \n",
    "        i = j - 1\n",
    "    return cost\n",
    "       \n",
    "solution('abccbd', [0,1,2,3,4,5])\n",
    "#solution('aabbcc', [1,2,1,2,1,2])\n",
    "#solution('aaaa', [3,4,5,6])\n",
    "#solution('ababa', [10,5,10,5,10])"
   ]
  },
  {
   "cell_type": "code",
   "execution_count": null,
   "metadata": {},
   "outputs": [],
   "source": [
    "#include <iostream>\n",
    "#include <vector>\n",
    "#include <cstring>\n",
    "\n",
    "using namespace std;\n",
    "\n",
    "int solution(string &S, vector<int> &C)\n",
    "{\n",
    "    int cost = 0;\n",
    "    for (int i = 0; i < S.size(); i++)\n",
    "    {\n",
    "        int max_idx = 0;\n",
    "        int max_value = -1;\n",
    "        int j;\n",
    "        for (j = i; S[i] == S[j]; j++)\n",
    "        {\n",
    "            if (C[j] > max_value)\n",
    "            {\n",
    "                max_value = C[j];\n",
    "                max_idx = j;\n",
    "            }\n",
    "        }\n",
    "        for (j = i; S[i] == S[j]; j++)\n",
    "        {\n",
    "            if (j == max_idx)\n",
    "                continue;\n",
    "            cost += C[j];\n",
    "        }\n",
    "        i = j - 1;\n",
    "    }\n",
    "    return cost;\n",
    "}"
   ]
  },
  {
   "cell_type": "code",
   "execution_count": 166,
   "metadata": {},
   "outputs": [
    {
     "name": "stdout",
     "output_type": "stream",
     "text": [
      "{'a': 2, 'b': 1, 'd': 1, 'c': 1}\n"
     ]
    }
   ],
   "source": [
    "arr = ['a','b','a','d','c']\n",
    "\n",
    "dic = {}\n",
    "\n",
    "for i in arr:\n",
    "    if i in dic.keys():\n",
    "        dic[i] += 1\n",
    "    else:\n",
    "        dic[i] = 1\n",
    "\n",
    "print(dic)"
   ]
  },
  {
   "cell_type": "code",
   "execution_count": 167,
   "metadata": {},
   "outputs": [
    {
     "name": "stdout",
     "output_type": "stream",
     "text": [
      "[[2], [2], [2]]\n"
     ]
    }
   ],
   "source": [
    "arr = [[] for _ in range(3)]\n",
    "print(arr)"
   ]
  },
  {
   "cell_type": "code",
   "execution_count": null,
   "metadata": {},
   "outputs": [],
   "source": []
  }
 ],
 "metadata": {
  "kernelspec": {
   "display_name": "Python 3",
   "language": "python",
   "name": "python3"
  },
  "language_info": {
   "codemirror_mode": {
    "name": "ipython",
    "version": 3
   },
   "file_extension": ".py",
   "mimetype": "text/x-python",
   "name": "python",
   "nbconvert_exporter": "python",
   "pygments_lexer": "ipython3",
   "version": "3.7.6"
  }
 },
 "nbformat": 4,
 "nbformat_minor": 4
}
