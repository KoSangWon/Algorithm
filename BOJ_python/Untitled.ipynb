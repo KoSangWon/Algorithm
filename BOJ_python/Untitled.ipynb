{
 "cells": [
  {
   "cell_type": "code",
   "execution_count": null,
   "metadata": {},
   "outputs": [],
   "source": [
    "from collections import deque\n",
    "\n",
    "MAX = 100001\n",
    "n, k = map(int, input().split())\n",
    "arr = [0] * MAX\n",
    "\n",
    "def bfs():\n",
    "    q = deque([n])\n",
    "    while q:\n",
    "        now_pos = q.popleft()\n",
    "        if(now_pos == k):\n",
    "            return arr[now_pos]\n",
    "        for next_pos in (now_pos - 1, now_pos + 1, now_pos * 2):\n",
    "            if 0 <= next_pos < MAX and not array[next_pos]:\n",
    "                arr[next_pos] = arr[now_pos + 1]\n",
    "                q.append(next_post)\n",
    "                \n",
    "print(bfs())"
   ]
  },
  {
   "cell_type": "code",
   "execution_count": null,
   "metadata": {},
   "outputs": [],
   "source": []
  }
 ],
 "metadata": {
  "kernelspec": {
   "display_name": "Python 3",
   "language": "python",
   "name": "python3"
  },
  "language_info": {
   "codemirror_mode": {
    "name": "ipython",
    "version": 3
   },
   "file_extension": ".py",
   "mimetype": "text/x-python",
   "name": "python",
   "nbconvert_exporter": "python",
   "pygments_lexer": "ipython3",
   "version": "3.7.6"
  }
 },
 "nbformat": 4,
 "nbformat_minor": 4
}
