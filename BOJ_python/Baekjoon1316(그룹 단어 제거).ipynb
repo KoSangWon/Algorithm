{
 "cells": [
  {
   "cell_type": "code",
   "execution_count": 6,
   "metadata": {},
   "outputs": [
    {
     "name": "stdout",
     "output_type": "stream",
     "text": [
      "4\n",
      "happy\n",
      "new\n",
      "year\n",
      "a\n",
      "4\n"
     ]
    }
   ],
   "source": [
    "N = int(input())\n",
    "cnt = 0\n",
    "\n",
    "for _ in range(N):\n",
    "    word = input()\n",
    "    for i in range(len(word)):\n",
    "        if i != len(word) - 1:\n",
    "            if word[i] == word[i+1]:\n",
    "                continue\n",
    "            else:\n",
    "                if word[i] in word[i+1:]:\n",
    "                    break\n",
    "        else:\n",
    "            cnt += 1\n",
    "    \n",
    "print(cnt)"
   ]
  },
  {
   "cell_type": "code",
   "execution_count": null,
   "metadata": {},
   "outputs": [],
   "source": []
  }
 ],
 "metadata": {
  "kernelspec": {
   "display_name": "Python 3",
   "language": "python",
   "name": "python3"
  },
  "language_info": {
   "codemirror_mode": {
    "name": "ipython",
    "version": 3
   },
   "file_extension": ".py",
   "mimetype": "text/x-python",
   "name": "python",
   "nbconvert_exporter": "python",
   "pygments_lexer": "ipython3",
   "version": "3.7.6"
  }
 },
 "nbformat": 4,
 "nbformat_minor": 4
}
