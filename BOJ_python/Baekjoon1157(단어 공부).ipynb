{
 "cells": [
  {
   "cell_type": "code",
   "execution_count": 10,
   "metadata": {},
   "outputs": [
    {
     "name": "stdout",
     "output_type": "stream",
     "text": [
      "abasda\n",
      "A\n"
     ]
    }
   ],
   "source": [
    "word = input()\n",
    "dic = {}\n",
    "\n",
    "for i in word:\n",
    "    up_i = i.upper()\n",
    "    if up_i in dic.keys():\n",
    "        dic[up_i] += 1\n",
    "    else:\n",
    "        dic[up_i] = 1\n",
    "max_cnt = max(dic.values())\n",
    "result = []\n",
    "for key, value in dic.items():\n",
    "    if value == max_cnt:\n",
    "        result.append(key)\n",
    "\n",
    "if len(result) > 1:\n",
    "    print('?')\n",
    "else:\n",
    "    print(result[0])"
   ]
  },
  {
   "cell_type": "code",
   "execution_count": 12,
   "metadata": {},
   "outputs": [
    {
     "name": "stdout",
     "output_type": "stream",
     "text": [
      "asda\n",
      "A\n"
     ]
    }
   ],
   "source": [
    "word = input().upper()\n",
    "dic = {}\n",
    "\n",
    "for i in word:\n",
    "    if i in dic.keys():\n",
    "        dic[i] += 1\n",
    "    else:\n",
    "        dic[i] = 1\n",
    "max_cnt = max(dic.values())\n",
    "result = []\n",
    "for key, value in dic.items():\n",
    "    if value == max_cnt:\n",
    "        result.append(key)\n",
    "\n",
    "if len(result) == 1:\n",
    "    print(result[0])\n",
    "else:\n",
    "    print('?')"
   ]
  },
  {
   "cell_type": "code",
   "execution_count": null,
   "metadata": {},
   "outputs": [],
   "source": [
    "word = input().upper()\n",
    "unique_word = list(set(words)) # 중복제거\n",
    "cnt_list = []\n",
    "for x in unique_word:\n",
    "    cnt = word.count(x)\n",
    "    cnt_list.append(cnt)\n",
    "\n",
    "if cnt_list.count()"
   ]
  }
 ],
 "metadata": {
  "kernelspec": {
   "display_name": "Python 3",
   "language": "python",
   "name": "python3"
  },
  "language_info": {
   "codemirror_mode": {
    "name": "ipython",
    "version": 3
   },
   "file_extension": ".py",
   "mimetype": "text/x-python",
   "name": "python",
   "nbconvert_exporter": "python",
   "pygments_lexer": "ipython3",
   "version": "3.7.6"
  }
 },
 "nbformat": 4,
 "nbformat_minor": 4
}
